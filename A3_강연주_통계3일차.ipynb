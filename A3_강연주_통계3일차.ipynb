{
 "cells": [
  {
   "cell_type": "code",
   "execution_count": 27,
   "metadata": {},
   "outputs": [],
   "source": [
    "# 데이터 구성 패키지 : Series, DataFrame\n",
    "import pandas as pd\n",
    "\n",
    "# 행렬 연산 패키지\n",
    "import numpy as np\n",
    "\n",
    "# 데이터 시각화 패키지\n",
    "import matplotlib\n",
    "import matplotlib.pyplot as plt\n",
    "\n",
    "\n",
    "import seaborn as sns\n",
    "\n",
    "# 통계 분석 패키지\n",
    "from scipy import stats\n",
    "import scipy.stats\n",
    "from scipy.stats import chi2_contingency\n",
    "\n",
    "# 주피터 노트북 내 그래프를 바로 그리기 위한 설정\n",
    "%matplotlib inline\n",
    "\n",
    "matplotlib.rc('font', family='Malgun Gothic')\n",
    "plt.rc('font', family='Malgun Gothic')"
   ]
  },
  {
   "cell_type": "markdown",
   "metadata": {},
   "source": [
    "# 카이제곱 검정"
   ]
  },
  {
   "cell_type": "code",
   "execution_count": 57,
   "metadata": {},
   "outputs": [
    {
     "name": "stdout",
     "output_type": "stream",
     "text": [
      "cho-square test\n",
      "chisq:80.478\n",
      "p:0.000\n",
      "degree pd freedom:25\n",
      "expected value:\n",
      "[[10.6    8.4    4.2    4.     2.    10.8  ]\n",
      " [ 8.215  6.51   3.255  3.1    1.55   8.37 ]\n",
      " [10.07   7.98   3.99   3.8    1.9   10.26 ]\n",
      " [ 7.95   6.3    3.15   3.     1.5    8.1  ]\n",
      " [ 8.48   6.72   3.36   3.2    1.6    8.64 ]\n",
      " [ 7.685  6.09   3.045  2.9    1.45   7.83 ]]\n",
      "\n",
      "H0:각 제품에 대해 이미지 차이가 없다.\n",
      "H1:각 제품에 대해 이미지 차이가 있다.\n",
      "\n",
      "유의수준 5%에서 p-value값이 0으로 0.05보다 작으므로 각 제품에 대해 이미지 차이가 있다고 할 수 있다.\n"
     ]
    }
   ],
   "source": [
    "#데이터 프레임 생성 \n",
    "from scipy.stats import chi2_contingency\n",
    "df=pd.DataFrame({'A/S':[18,8,4,4,3,3],\n",
    "                 '가격':[1,2,1,1,1,25],\n",
    "                 '성능':[8,14,3,2,3,8],\n",
    "                 '확장성':[7,5,4,3,1,10],\n",
    "                 '디자인':[9,9,5,7,1,1],\n",
    "                 '기능성':[10,4,4,3,1,7]})\n",
    "\n",
    "#chi-square test 실행 후 x축 y축 바꾸기\n",
    "chi,pval,dof,expected=stats.chi2_contingency(df.T)\n",
    "\n",
    "#chi-square test 결과 출력\n",
    "print(\"cho-square test\")\n",
    "print('chisq:{0:0.3f}'.format(chi))\n",
    "print('p:{0:0.3f}'.format(pval))\n",
    "print('degree pd freedom:{}'.format(dof))\n",
    "print('expected value:\\n{}'.format(expected.round(3)))\n",
    "print(\"\")\n",
    "print(\"H0:각 제품에 대해 이미지 차이가 없다.\")\n",
    "print(\"H1:각 제품에 대해 이미지 차이가 있다.\")\n",
    "print(\"\")\n",
    "print(\"유의수준 5%에서 p-value값이 0으로 0.05보다 작으므로 각 제품에 대해 이미지 차이가 있다고 할 수 있다.\")"
   ]
  },
  {
   "cell_type": "markdown",
   "metadata": {},
   "source": [
    "# One way ANOVA"
   ]
  },
  {
   "cell_type": "code",
   "execution_count": 20,
   "metadata": {},
   "outputs": [],
   "source": [
    "#선형 모델 formula \n",
    "import statsmodels.formula.api as smf\n",
    "import statsmodels.api as sm\n",
    "from statsmodels.formula.api import ols\n",
    "from statsmodels.stats.anova import anova_lm"
   ]
  },
  {
   "cell_type": "code",
   "execution_count": 58,
   "metadata": {},
   "outputs": [
    {
     "name": "stdout",
     "output_type": "stream",
     "text": [
      "               df      sum_sq    mean_sq         F    PR(>F)\n",
      "C(gangjong)   3.0  104.603333  34.867778  4.171868  0.019013\n",
      "Residual     20.0  167.156667   8.357833       NaN       NaN\n",
      "\n",
      "H0:2차정련 시간에 대해 이미지 차이가 없다.\n",
      "H1:2차정련 시간에 대해 이미지 차이가 있다.\n",
      "\n",
      "유의수준 5%에서 p-value값이 0.019으로 0.05보다 작으므로 2차정련 시간에 대해 이미지 차이가 있다고 할 수 있다.\n"
     ]
    }
   ],
   "source": [
    "#파일 불러오기 \n",
    "df_1=pd.read_csv(\"/home/piai/바탕화면/강연주/수업/통계 이해/ANOVA.csv\",engine='python')\n",
    "\n",
    "#ANOVA 실행 \n",
    "formula='time~C(gangjong)'\n",
    "lm=ols(formula,df_1).fit()\n",
    "\n",
    "#ANOVA 값 출력 \n",
    "print(anova_lm(lm))\n",
    "print(\"\")\n",
    "print(\"H0:2차정련 시간에 대해 이미지 차이가 없다.\")\n",
    "print(\"H1:2차정련 시간에 대해 이미지 차이가 있다.\")\n",
    "print(\"\")\n",
    "print(\"유의수준 5%에서 p-value값이 0.019으로 0.05보다 작으므로 2차정련 시간에 대해 이미지 차이가 있다고 할 수 있다.\")"
   ]
  },
  {
   "cell_type": "markdown",
   "metadata": {},
   "source": [
    "# 상관분석"
   ]
  },
  {
   "cell_type": "code",
   "execution_count": 60,
   "metadata": {},
   "outputs": [
    {
     "name": "stdout",
     "output_type": "stream",
     "text": [
      "Corrlation Analysis\n",
      "corr:-0.899389\n",
      "p-value:0.000\n",
      "\n",
      "두 변수의 연관성은 -89.9%로 강한 음의 상관 관계를 가지고 있다고 할 수 있다.\n"
     ]
    }
   ],
   "source": [
    "#파일 불러오기\n",
    "df_raw=pd.read_csv(\"/home/piai/Downloads/데이터/correlation.csv\", engine='python')\n",
    "df_raw.head()\n",
    "\n",
    "#상관 분석 실행\n",
    "corr,pval=stats.pearsonr(df_raw[\"strength\"],df_raw[\"temp\"])\n",
    "\n",
    "#상관 분석 값 출력\n",
    "print(\"Corrlation Analysis\")\n",
    "print(\"corr:{0:03f}\".format(corr))\n",
    "print(\"p-value:{0:0.3f}\".format(pval))\n",
    "print(\"\")\n",
    "print(\"두 변수의 연관성은 -89.9%로 강한 음의 상관 관계를 가지고 있다고 할 수 있다.\")"
   ]
  },
  {
   "cell_type": "markdown",
   "metadata": {},
   "source": [
    "# 단순선형회귀1"
   ]
  },
  {
   "cell_type": "code",
   "execution_count": 62,
   "metadata": {},
   "outputs": [
    {
     "name": "stdout",
     "output_type": "stream",
     "text": [
      "                            OLS Regression Results                            \n",
      "==============================================================================\n",
      "Dep. Variable:               strength   R-squared:                       0.933\n",
      "Model:                            OLS   Adj. R-squared:                  0.932\n",
      "Method:                 Least Squares   F-statistic:                     1169.\n",
      "Date:                Thu, 12 Nov 2020   Prob (F-statistic):           4.60e-51\n",
      "Time:                        01:25:30   Log-Likelihood:                -107.75\n",
      "No. Observations:                  86   AIC:                             219.5\n",
      "Df Residuals:                      84   BIC:                             224.4\n",
      "Df Model:                           1                                         \n",
      "Covariance Type:            nonrobust                                         \n",
      "==============================================================================\n",
      "                 coef    std err          t      P>|t|      [0.025      0.975]\n",
      "------------------------------------------------------------------------------\n",
      "Intercept      2.1034      0.885      2.377      0.020       0.343       3.863\n",
      "b_time        44.5520      1.303     34.186      0.000      41.960      47.144\n",
      "==============================================================================\n",
      "Omnibus:                        5.137   Durbin-Watson:                   1.395\n",
      "Prob(Omnibus):                  0.077   Jarque-Bera (JB):                2.908\n",
      "Skew:                           0.228   Prob(JB):                        0.234\n",
      "Kurtosis:                       2.223   Cond. No.                         20.6\n",
      "==============================================================================\n",
      "\n",
      "Warnings:\n",
      "[1] Standard Errors assume that the covariance matrix of the errors is correctly specified.\n",
      "\n",
      "H0: 정규성을 가진다.\n",
      "H1: 정규성을 가지지 않는다.\n",
      "\n",
      "회귀식은 strength=2.10+44.55*baking_time이고 회귀식에 대한 설명력은 93.3%이다.\n",
      "p-value는 0.05보다 작으므로 정규성을 따르지 않는다.\n",
      "Durbin-Watson값은 1.395로 0~4중 0에 가까우므로 양의 상관관계를 가짐을 알 수 있다.\n"
     ]
    },
    {
     "data": {
      "image/png": "[encoded data removed]",
      "text/plain": [
       "<Figure size 432x288 with 1 Axes>"
      ]
     },
     "metadata": {
      "needs_background": "light"
     },
     "output_type": "display_data"
    }
   ],
   "source": [
    "#파일 불러오기\n",
    "df_raw=pd.read_csv(\"/home/piai/Downloads/데이터/correlation.csv\", engine='python')\n",
    "\n",
    "#선형 회귀 모델\n",
    "from sklearn.linear_model import LinearRegression \n",
    "\n",
    "#선형 모델 formula (y~x...)\n",
    "import statsmodels.formula.api as smf\n",
    "\n",
    "#scatter plot 그리기\n",
    "df_raw.plot.scatter(x=\"b_time\",y=\"strength\")\n",
    "\n",
    "#Linear Regression 실행 \n",
    "formula=\"strength~b_time\" #\"y~x\"\n",
    "model=smf.ols(formula, data=df_raw)\n",
    "\n",
    "#적합\n",
    "result=model.fit()\n",
    "\n",
    "print(result.summary())\n",
    "print()\n",
    "print(\"H0: 정규성을 가진다.\")\n",
    "print(\"H1: 정규성을 가지지 않는다.\")\n",
    "print(\"\")\n",
    "print(\"회귀식은 strength=2.10+44.55*baking_time이고 회귀식에 대한 설명력은 93.3%이다.\")\n",
    "print(\"p-value는 0.05보다 작으므로 정규성을 따르지 않는다.\")\n",
    "print(\"Durbin-Watson값은 1.395로 0~4중 0에 가까우므로 양의 상관관계를 가짐을 알 수 있다.\")"
   ]
  },
  {
   "cell_type": "markdown",
   "metadata": {},
   "source": [
    "# 단순선형회귀2"
   ]
  },
  {
   "cell_type": "code",
   "execution_count": 64,
   "metadata": {},
   "outputs": [
    {
     "name": "stdout",
     "output_type": "stream",
     "text": [
      "                            OLS Regression Results                            \n",
      "==============================================================================\n",
      "Dep. Variable:               strength   R-squared:                       0.809\n",
      "Model:                            OLS   Adj. R-squared:                  0.807\n",
      "Method:                 Least Squares   F-statistic:                     355.6\n",
      "Date:                Thu, 12 Nov 2020   Prob (F-statistic):           6.25e-32\n",
      "Time:                        01:27:02   Log-Likelihood:                -152.78\n",
      "No. Observations:                  86   AIC:                             309.6\n",
      "Df Residuals:                      84   BIC:                             314.5\n",
      "Df Model:                           1                                         \n",
      "Covariance Type:            nonrobust                                         \n",
      "==============================================================================\n",
      "                 coef    std err          t      P>|t|      [0.025      0.975]\n",
      "------------------------------------------------------------------------------\n",
      "Intercept     44.2198      0.657     67.339      0.000      42.914      45.526\n",
      "temp          -0.5073      0.027    -18.856      0.000      -0.561      -0.454\n",
      "==============================================================================\n",
      "Omnibus:                        2.929   Durbin-Watson:                   1.303\n",
      "Prob(Omnibus):                  0.231   Jarque-Bera (JB):                2.836\n",
      "Skew:                          -0.387   Prob(JB):                        0.242\n",
      "Kurtosis:                       2.562   Cond. No.                         103.\n",
      "==============================================================================\n",
      "\n",
      "Warnings:\n",
      "[1] Standard Errors assume that the covariance matrix of the errors is correctly specified.\n",
      "\n",
      "H0: 정규성을 가진다.\n",
      "H1: 정규성을 가지지 않는다.\n",
      "\n",
      "회귀식은 strength=44.22-0.51*temp이고 회귀식에 대한 설명력은 80.9%이다.\n",
      "p-value는 0.05보다 작으므로 정규성을 가지지 않는다고 볼 수 있다.\n",
      "Durbin-Watson값은 1.303로 0~4중 0에 가까우므로 양의 상관관계를 가짐을 알 수 있다.\n"
     ]
    }
   ],
   "source": [
    "df_raw=pd.read_csv(\"/home/piai/Downloads/데이터/correlation.csv\", engine='python')\n",
    "\n",
    "from sklearn.linear_model import LinearRegression \n",
    "import statsmodels.formula.api as smf\n",
    "model=smf.ols(formula='strength~temp', data=df_raw)\n",
    "result=model.fit()\n",
    "\n",
    "print(result.summary())\n",
    "print()\n",
    "print(\"H0: 정규성을 가진다.\")\n",
    "print(\"H1: 정규성을 가지지 않는다.\")\n",
    "print(\"\")\n",
    "print(\"회귀식은 strength=44.22-0.51*temp이고 회귀식에 대한 설명력은 80.9%이다.\")\n",
    "print(\"p-value는 0.05보다 작으므로 정규성을 가지지 않는다고 볼 수 있다.\")\n",
    "print(\"Durbin-Watson값은 1.303로 0~4중 0에 가까우므로 양의 상관관계를 가짐을 알 수 있다.\")"
   ]
  }
 ],
 "metadata": {
  "kernelspec": {
   "display_name": "Python 3",
   "language": "python",
   "name": "python3"
  },
  "language_info": {
   "codemirror_mode": {
    "name": "ipython",
    "version": 3
   },
   "file_extension": ".py",
   "mimetype": "text/x-python",
   "name": "python",
   "nbconvert_exporter": "python",
   "pygments_lexer": "ipython3",
   "version": "3.8.3"
  }
 },
 "nbformat": 4,
 "nbformat_minor": 4
}
