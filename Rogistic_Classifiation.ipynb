{
 "cells": [
  {
   "cell_type": "markdown",
   "metadata": {},
   "source": [
    "# 0. 패키지 불러오기 "
   ]
  },
  {
   "cell_type": "code",
   "execution_count": 7,
   "metadata": {},
   "outputs": [],
   "source": [
    "# 데이터 구성:Series,DataFrame\n",
    "import pandas as pd\n",
    "\n",
    "# 행렬 연산 패키지 \n",
    "import numpy as np\n",
    "\n",
    "# 데이터 시각화\n",
    "import matplotlib.pyplot as plt\n",
    "import matplotlib\n",
    "\n",
    "# scaling \n",
    "from sklearn.preprocessing import StandardScaler\n",
    "\n",
    "# 데이터 분할:train,test\n",
    "from sklearn.model_selection import train_test_split\n",
    "\n",
    "# 로지스틱 회귀\n",
    "from statsmodels.api import Logit\n",
    "\n",
    "# 평가함수\n",
    "from sklearn.metrics import accuracy_score\n",
    "\n",
    "# confusion matrix\n",
    "from sklearn.metrics import confusion_matrix\n",
    "\n",
    "# 한글 깨짐 방지\n",
    "import matplotlib.font_manager as fm \n",
    "font_list=[font.name for font in fm.fontManager.ttflist]\n",
    "font_list\n",
    "plt.rcParams['font.family']='NanumBarunGothic'"
   ]
  },
  {
   "cell_type": "code",
   "execution_count": 1,
   "metadata": {},
   "outputs": [],
   "source": [
    "# 다중 공선성은 고민하지 말고 변수 선택은 고민 "
   ]
  },
  {
   "cell_type": "markdown",
   "metadata": {},
   "source": [
    "# 1. 데이터 불러오기 "
   ]
  },
  {
   "cell_type": "code",
   "execution_count": 9,
   "metadata": {},
   "outputs": [
    {
     "data": {
      "text/html": [
       "<div>\n",
       "<style scoped>\n",
       "    .dataframe tbody tr th:only-of-type {\n",
       "        vertical-align: middle;\n",
       "    }\n",
       "\n",
       "    .dataframe tbody tr th {\n",
       "        vertical-align: top;\n",
       "    }\n",
       "\n",
       "    .dataframe thead th {\n",
       "        text-align: right;\n",
       "    }\n",
       "</style>\n",
       "<table border=\"1\" class=\"dataframe\">\n",
       "  <thead>\n",
       "    <tr style=\"text-align: right;\">\n",
       "      <th></th>\n",
       "      <th>BAD</th>\n",
       "      <th>LOAN</th>\n",
       "      <th>MORTDUE</th>\n",
       "      <th>VALUE</th>\n",
       "      <th>REASON</th>\n",
       "      <th>JOB</th>\n",
       "      <th>YOJ</th>\n",
       "      <th>DEROG</th>\n",
       "      <th>DELINQ</th>\n",
       "      <th>CLAGE</th>\n",
       "      <th>NINQ</th>\n",
       "      <th>CLNO</th>\n",
       "      <th>DEBTINC</th>\n",
       "    </tr>\n",
       "  </thead>\n",
       "  <tbody>\n",
       "    <tr>\n",
       "      <th>0</th>\n",
       "      <td>1</td>\n",
       "      <td>1700</td>\n",
       "      <td>30548</td>\n",
       "      <td>40320.0</td>\n",
       "      <td>HomeImp</td>\n",
       "      <td>Other</td>\n",
       "      <td>9.0</td>\n",
       "      <td>0</td>\n",
       "      <td>0.0</td>\n",
       "      <td>101.466002</td>\n",
       "      <td>1.0</td>\n",
       "      <td>8</td>\n",
       "      <td>37.113614</td>\n",
       "    </tr>\n",
       "    <tr>\n",
       "      <th>1</th>\n",
       "      <td>1</td>\n",
       "      <td>1800</td>\n",
       "      <td>28502</td>\n",
       "      <td>43034.0</td>\n",
       "      <td>HomeImp</td>\n",
       "      <td>Other</td>\n",
       "      <td>11.0</td>\n",
       "      <td>0</td>\n",
       "      <td>0.0</td>\n",
       "      <td>88.766030</td>\n",
       "      <td>0.0</td>\n",
       "      <td>8</td>\n",
       "      <td>36.884894</td>\n",
       "    </tr>\n",
       "    <tr>\n",
       "      <th>2</th>\n",
       "      <td>0</td>\n",
       "      <td>2300</td>\n",
       "      <td>102370</td>\n",
       "      <td>120953.0</td>\n",
       "      <td>HomeImp</td>\n",
       "      <td>Office</td>\n",
       "      <td>2.0</td>\n",
       "      <td>0</td>\n",
       "      <td>0.0</td>\n",
       "      <td>90.992533</td>\n",
       "      <td>0.0</td>\n",
       "      <td>13</td>\n",
       "      <td>31.588503</td>\n",
       "    </tr>\n",
       "    <tr>\n",
       "      <th>3</th>\n",
       "      <td>1</td>\n",
       "      <td>2400</td>\n",
       "      <td>34863</td>\n",
       "      <td>47471.0</td>\n",
       "      <td>HomeImp</td>\n",
       "      <td>Mgr</td>\n",
       "      <td>12.0</td>\n",
       "      <td>0</td>\n",
       "      <td>0.0</td>\n",
       "      <td>70.491080</td>\n",
       "      <td>1.0</td>\n",
       "      <td>21</td>\n",
       "      <td>38.263601</td>\n",
       "    </tr>\n",
       "    <tr>\n",
       "      <th>4</th>\n",
       "      <td>0</td>\n",
       "      <td>2400</td>\n",
       "      <td>98449</td>\n",
       "      <td>117195.0</td>\n",
       "      <td>HomeImp</td>\n",
       "      <td>Office</td>\n",
       "      <td>4.0</td>\n",
       "      <td>0</td>\n",
       "      <td>0.0</td>\n",
       "      <td>93.811775</td>\n",
       "      <td>0.0</td>\n",
       "      <td>13</td>\n",
       "      <td>29.681827</td>\n",
       "    </tr>\n",
       "  </tbody>\n",
       "</table>\n",
       "</div>"
      ],
      "text/plain": [
       "   BAD  LOAN  MORTDUE     VALUE   REASON     JOB   YOJ  DEROG  DELINQ  \\\n",
       "0    1  1700    30548   40320.0  HomeImp   Other   9.0      0     0.0   \n",
       "1    1  1800    28502   43034.0  HomeImp   Other  11.0      0     0.0   \n",
       "2    0  2300   102370  120953.0  HomeImp  Office   2.0      0     0.0   \n",
       "3    1  2400    34863   47471.0  HomeImp     Mgr  12.0      0     0.0   \n",
       "4    0  2400    98449  117195.0  HomeImp  Office   4.0      0     0.0   \n",
       "\n",
       "        CLAGE  NINQ  CLNO    DEBTINC  \n",
       "0  101.466002   1.0     8  37.113614  \n",
       "1   88.766030   0.0     8  36.884894  \n",
       "2   90.992533   0.0    13  31.588503  \n",
       "3   70.491080   1.0    21  38.263601  \n",
       "4   93.811775   0.0    13  29.681827  "
      ]
     },
     "execution_count": 9,
     "metadata": {},
     "output_type": "execute_result"
    }
   ],
   "source": [
    "df_raw=pd.read_csv(\"/home/piai/Downloads/데이터_1/HMEQ.csv\", engine='python')\n",
    "df_raw.head()"
   ]
  },
  {
   "cell_type": "markdown",
   "metadata": {},
   "source": [
    "# 2. 데이터 전처리 - 결측치 처리 "
   ]
  },
  {
   "cell_type": "code",
   "execution_count": 10,
   "metadata": {},
   "outputs": [
    {
     "data": {
      "text/plain": [
       "BAD          0\n",
       "LOAN         0\n",
       "MORTDUE      0\n",
       "VALUE       14\n",
       "REASON       0\n",
       "JOB         81\n",
       "YOJ        205\n",
       "DEROG        0\n",
       "DELINQ      30\n",
       "CLAGE       37\n",
       "NINQ        56\n",
       "CLNO         0\n",
       "DEBTINC      0\n",
       "dtype: int64"
      ]
     },
     "execution_count": 10,
     "metadata": {},
     "output_type": "execute_result"
    }
   ],
   "source": [
    "df_raw.isnull().sum(axis=0)"
   ]
  },
  {
   "cell_type": "code",
   "execution_count": 11,
   "metadata": {},
   "outputs": [],
   "source": [
    "df_raw[\"JOB\"].fillna(\"Other\", inplace=True)\n",
    "df_raw.fillna(df_raw.mean(), inplace=True)"
   ]
  },
  {
   "cell_type": "code",
   "execution_count": 12,
   "metadata": {},
   "outputs": [
    {
     "name": "stdout",
     "output_type": "stream",
     "text": [
      "train data size:(2623, 13)\n",
      "test data size:(1125, 13)\n"
     ]
    }
   ],
   "source": [
    "# 데이터 분할 \n",
    "df_train,df_test=train_test_split(df_raw, test_size=0.3,random_state=1234)\n",
    "print('train data size:{}'.format(df_train.shape))\n",
    "print('test data size:{}'.format(df_test.shape))"
   ]
  },
  {
   "cell_type": "markdown",
   "metadata": {},
   "source": [
    "# 3. 모델 및 회귀계수 검토 "
   ]
  },
  {
   "cell_type": "code",
   "execution_count": 13,
   "metadata": {},
   "outputs": [
    {
     "name": "stdout",
     "output_type": "stream",
     "text": [
      "Optimization terminated successfully.\n",
      "         Current function value: 0.237614\n",
      "         Iterations 8\n",
      "                           Logit Regression Results                           \n",
      "==============================================================================\n",
      "Dep. Variable:                    BAD   No. Observations:                 2623\n",
      "Model:                          Logit   Df Residuals:                     2606\n",
      "Method:                           MLE   Df Model:                           16\n",
      "Date:                Tue, 24 Nov 2020   Pseudo R-squ.:                  0.2257\n",
      "Time:                        04:42:30   Log-Likelihood:                -623.26\n",
      "converged:                       True   LL-Null:                       -804.91\n",
      "Covariance Type:            nonrobust   LLR p-value:                 1.743e-67\n",
      "========================================================================================\n",
      "                           coef    std err          z      P>|z|      [0.025      0.975]\n",
      "----------------------------------------------------------------------------------------\n",
      "Intercept               -5.0942      0.560     -9.100      0.000      -6.191      -3.997\n",
      "C(REASON)[T.HomeImp]    -0.0080      0.176     -0.045      0.964      -0.354       0.338\n",
      "C(JOB)[T.Office]        -0.8256      0.294     -2.807      0.005      -1.402      -0.249\n",
      "C(JOB)[T.Other]         -0.3304      0.227     -1.454      0.146      -0.776       0.115\n",
      "C(JOB)[T.ProfExe]       -0.4247      0.271     -1.566      0.117      -0.956       0.107\n",
      "C(JOB)[T.Sales]          1.1323      0.476      2.381      0.017       0.200       2.064\n",
      "C(JOB)[T.Self]          -0.0454      0.432     -0.105      0.916      -0.892       0.801\n",
      "LOAN                 -1.223e-05   8.08e-06     -1.514      0.130   -2.81e-05     3.6e-06\n",
      "MORTDUE               -2.14e-06   3.57e-06     -0.599      0.549   -9.15e-06    4.87e-06\n",
      "VALUE                 3.061e-06   3.04e-06      1.008      0.313   -2.89e-06    9.01e-06\n",
      "YOJ                     -0.0053      0.012     -0.461      0.645      -0.028       0.017\n",
      "DEROG                    0.6221      0.103      6.043      0.000       0.420       0.824\n",
      "DELINQ                   0.7456      0.077      9.648      0.000       0.594       0.897\n",
      "CLAGE                   -0.0050      0.001     -4.320      0.000      -0.007      -0.003\n",
      "NINQ                     0.0939      0.044      2.131      0.033       0.008       0.180\n",
      "CLNO                    -0.0230      0.009     -2.587      0.010      -0.040      -0.006\n",
      "DEBTINC                  0.1097      0.012      8.829      0.000       0.085       0.134\n",
      "========================================================================================\n"
     ]
    }
   ],
   "source": [
    "log_model=Logit.from_formula(\"\"\"BAD ~ LOAN + MORTDUE + VALUE + C(REASON) + C(JOB) + YOJ + DEROG\\\n",
    "                            + DELINQ + CLAGE + NINQ + CLNO + DEBTINC\"\"\", df_train)\n",
    "log_result=log_model.fit()\n",
    "print(log_result.summary()) # Df Model: 입력변수의 개수 / Coef를 통해 분석한다. "
   ]
  },
  {
   "cell_type": "markdown",
   "metadata": {},
   "source": [
    "# 4. 예측 및 성능 평가"
   ]
  },
  {
   "cell_type": "markdown",
   "metadata": {},
   "source": [
    "### 4-1 예측"
   ]
  },
  {
   "cell_type": "code",
   "execution_count": 14,
   "metadata": {},
   "outputs": [
    {
     "data": {
      "text/plain": [
       "1721    0\n",
       "822     0\n",
       "1686    0\n",
       "789     0\n",
       "165     0\n",
       "dtype: int64"
      ]
     },
     "execution_count": 14,
     "metadata": {},
     "output_type": "execute_result"
    }
   ],
   "source": [
    "y_pred=log_result.predict(df_test)\n",
    "y_pred_class=(y_pred>0.5).astype(int)\n",
    "y_pred_class.head()"
   ]
  },
  {
   "cell_type": "markdown",
   "metadata": {},
   "source": [
    "### 4-2 평가"
   ]
  },
  {
   "cell_type": "code",
   "execution_count": 15,
   "metadata": {},
   "outputs": [
    {
     "name": "stdout",
     "output_type": "stream",
     "text": [
      "Accuracy:0.924444\n",
      "\n",
      "Confusion Matrix:\n",
      "[[1017    4]\n",
      " [  81   23]]\n"
     ]
    }
   ],
   "source": [
    "print(\"Accuracy:{0:3f}\\n\".format(accuracy_score(df_test[\"BAD\"],y_pred_class)))\n",
    "print(\"Confusion Matrix:\\n{}\".format(confusion_matrix(df_test[\"BAD\"],y_pred_class)))"
   ]
  },
  {
   "cell_type": "markdown",
   "metadata": {},
   "source": [
    "# 5. 결론 도출 "
   ]
  },
  {
   "cell_type": "markdown",
   "metadata": {},
   "source": [
    "### 5-1 결론 도출 - 최종 회귀식 "
   ]
  },
  {
   "cell_type": "code",
   "execution_count": 16,
   "metadata": {},
   "outputs": [
    {
     "data": {
      "text/plain": [
       "<matplotlib.axes._subplots.AxesSubplot at 0x7f9cd2d51160>"
      ]
     },
     "execution_count": 16,
     "metadata": {},
     "output_type": "execute_result"
    },
    {
     "name": "stderr",
     "output_type": "stream",
     "text": [
      "/home/piai/anaconda3/lib/python3.8/site-packages/matplotlib/backends/backend_agg.py:214: RuntimeWarning: Glyph 8722 missing from current font.\n",
      "  font.set_text(s, 0.0, flags=flags)\n",
      "/home/piai/anaconda3/lib/python3.8/site-packages/matplotlib/backends/backend_agg.py:183: RuntimeWarning: Glyph 8722 missing from current font.\n",
      "  font.set_text(s, 0, flags=flags)\n"
     ]
    },
    {
     "data": {
      "image/png": "[encoded data removed]",
      "text/plain": [
       "<Figure size 432x288 with 1 Axes>"
      ]
     },
     "metadata": {
      "needs_background": "light"
     },
     "output_type": "display_data"
    }
   ],
   "source": [
    "df_logistic_coef=pd.DataFrame({\"Coef\": log_result.params.values[1:]},index=log_model.exog_names[1:])\n",
    "df_logistic_coef.plot.barh(y=\"Coef\")"
   ]
  },
  {
   "cell_type": "markdown",
   "metadata": {},
   "source": [
    "### 5-2 표준화 회귀 계수"
   ]
  },
  {
   "cell_type": "code",
   "execution_count": 18,
   "metadata": {},
   "outputs": [
    {
     "data": {
      "text/html": [
       "<div>\n",
       "<style scoped>\n",
       "    .dataframe tbody tr th:only-of-type {\n",
       "        vertical-align: middle;\n",
       "    }\n",
       "\n",
       "    .dataframe tbody tr th {\n",
       "        vertical-align: top;\n",
       "    }\n",
       "\n",
       "    .dataframe thead th {\n",
       "        text-align: right;\n",
       "    }\n",
       "</style>\n",
       "<table border=\"1\" class=\"dataframe\">\n",
       "  <thead>\n",
       "    <tr style=\"text-align: right;\">\n",
       "      <th></th>\n",
       "      <th>BAD</th>\n",
       "      <th>LOAN</th>\n",
       "      <th>MORTDUE</th>\n",
       "      <th>VALUE</th>\n",
       "      <th>YOJ</th>\n",
       "      <th>DEROG</th>\n",
       "      <th>DELINQ</th>\n",
       "      <th>CLAGE</th>\n",
       "      <th>NINQ</th>\n",
       "      <th>CLNO</th>\n",
       "      <th>DEBTINC</th>\n",
       "      <th>REASON</th>\n",
       "      <th>JOB</th>\n",
       "    </tr>\n",
       "  </thead>\n",
       "  <tbody>\n",
       "    <tr>\n",
       "      <th>0</th>\n",
       "      <td>3.140664</td>\n",
       "      <td>-1.559587</td>\n",
       "      <td>-0.993626</td>\n",
       "      <td>-1.224910</td>\n",
       "      <td>-0.017563</td>\n",
       "      <td>-0.267462</td>\n",
       "      <td>-0.342558</td>\n",
       "      <td>-0.967342</td>\n",
       "      <td>-0.018776</td>\n",
       "      <td>-1.428350</td>\n",
       "      <td>0.356347</td>\n",
       "      <td>HomeImp</td>\n",
       "      <td>Other</td>\n",
       "    </tr>\n",
       "    <tr>\n",
       "      <th>1</th>\n",
       "      <td>3.140664</td>\n",
       "      <td>-1.550817</td>\n",
       "      <td>-1.039240</td>\n",
       "      <td>-1.174897</td>\n",
       "      <td>0.251809</td>\n",
       "      <td>-0.267462</td>\n",
       "      <td>-0.342558</td>\n",
       "      <td>-1.122053</td>\n",
       "      <td>-0.666629</td>\n",
       "      <td>-1.428350</td>\n",
       "      <td>0.329025</td>\n",
       "      <td>HomeImp</td>\n",
       "      <td>Other</td>\n",
       "    </tr>\n",
       "    <tr>\n",
       "      <th>2</th>\n",
       "      <td>-0.318404</td>\n",
       "      <td>-1.506968</td>\n",
       "      <td>0.607570</td>\n",
       "      <td>0.260973</td>\n",
       "      <td>-0.960364</td>\n",
       "      <td>-0.267462</td>\n",
       "      <td>-0.342558</td>\n",
       "      <td>-1.094930</td>\n",
       "      <td>-0.666629</td>\n",
       "      <td>-0.905133</td>\n",
       "      <td>-0.303684</td>\n",
       "      <td>HomeImp</td>\n",
       "      <td>Office</td>\n",
       "    </tr>\n",
       "    <tr>\n",
       "      <th>3</th>\n",
       "      <td>3.140664</td>\n",
       "      <td>-1.498198</td>\n",
       "      <td>-0.897428</td>\n",
       "      <td>-1.093133</td>\n",
       "      <td>0.386495</td>\n",
       "      <td>-0.267462</td>\n",
       "      <td>-0.342558</td>\n",
       "      <td>-1.344679</td>\n",
       "      <td>-0.018776</td>\n",
       "      <td>-0.067985</td>\n",
       "      <td>0.493725</td>\n",
       "      <td>HomeImp</td>\n",
       "      <td>Mgr</td>\n",
       "    </tr>\n",
       "    <tr>\n",
       "      <th>4</th>\n",
       "      <td>-0.318404</td>\n",
       "      <td>-1.498198</td>\n",
       "      <td>0.520156</td>\n",
       "      <td>0.191721</td>\n",
       "      <td>-0.690992</td>\n",
       "      <td>-0.267462</td>\n",
       "      <td>-0.342558</td>\n",
       "      <td>-1.060586</td>\n",
       "      <td>-0.666629</td>\n",
       "      <td>-0.905133</td>\n",
       "      <td>-0.531456</td>\n",
       "      <td>HomeImp</td>\n",
       "      <td>Office</td>\n",
       "    </tr>\n",
       "  </tbody>\n",
       "</table>\n",
       "</div>"
      ],
      "text/plain": [
       "        BAD      LOAN   MORTDUE     VALUE       YOJ     DEROG    DELINQ  \\\n",
       "0  3.140664 -1.559587 -0.993626 -1.224910 -0.017563 -0.267462 -0.342558   \n",
       "1  3.140664 -1.550817 -1.039240 -1.174897  0.251809 -0.267462 -0.342558   \n",
       "2 -0.318404 -1.506968  0.607570  0.260973 -0.960364 -0.267462 -0.342558   \n",
       "3  3.140664 -1.498198 -0.897428 -1.093133  0.386495 -0.267462 -0.342558   \n",
       "4 -0.318404 -1.498198  0.520156  0.191721 -0.690992 -0.267462 -0.342558   \n",
       "\n",
       "      CLAGE      NINQ      CLNO   DEBTINC   REASON     JOB  \n",
       "0 -0.967342 -0.018776 -1.428350  0.356347  HomeImp   Other  \n",
       "1 -1.122053 -0.666629 -1.428350  0.329025  HomeImp   Other  \n",
       "2 -1.094930 -0.666629 -0.905133 -0.303684  HomeImp  Office  \n",
       "3 -1.344679 -0.018776 -0.067985  0.493725  HomeImp     Mgr  \n",
       "4 -1.060586 -0.666629 -0.905133 -0.531456  HomeImp  Office  "
      ]
     },
     "execution_count": 18,
     "metadata": {},
     "output_type": "execute_result"
    }
   ],
   "source": [
    "# select_dtypes : 특정 변수 타입을 선택, 제외하여 데이터 추출\n",
    "df_char=df_raw.select_dtypes(include=\"object\")\n",
    "df_numeric=df_raw.select_dtypes(exclude=\"object\")\n",
    "\n",
    "# Data Scaling\n",
    "scaler=StandardScaler()\n",
    "np_numeric_scaled=scaler.fit_transform(df_numeric)\n",
    "df_numeric_scaled=pd.DataFrame(np_numeric_scaled, columns=df_numeric.columns)\n",
    "\n",
    "# 문자 데이터 + 숫자 데이터\n",
    "df_scaled=pd.concat([df_numeric_scaled,df_char], axis=1)\n",
    "df_scaled.head()"
   ]
  },
  {
   "cell_type": "code",
   "execution_count": 19,
   "metadata": {},
   "outputs": [
    {
     "data": {
      "text/html": [
       "<div>\n",
       "<style scoped>\n",
       "    .dataframe tbody tr th:only-of-type {\n",
       "        vertical-align: middle;\n",
       "    }\n",
       "\n",
       "    .dataframe tbody tr th {\n",
       "        vertical-align: top;\n",
       "    }\n",
       "\n",
       "    .dataframe thead th {\n",
       "        text-align: right;\n",
       "    }\n",
       "</style>\n",
       "<table border=\"1\" class=\"dataframe\">\n",
       "  <thead>\n",
       "    <tr style=\"text-align: right;\">\n",
       "      <th></th>\n",
       "      <th>BAD</th>\n",
       "      <th>LOAN</th>\n",
       "      <th>MORTDUE</th>\n",
       "      <th>VALUE</th>\n",
       "      <th>YOJ</th>\n",
       "      <th>DEROG</th>\n",
       "      <th>DELINQ</th>\n",
       "      <th>CLAGE</th>\n",
       "      <th>NINQ</th>\n",
       "      <th>CLNO</th>\n",
       "      <th>DEBTINC</th>\n",
       "      <th>REASON</th>\n",
       "      <th>JOB</th>\n",
       "    </tr>\n",
       "  </thead>\n",
       "  <tbody>\n",
       "    <tr>\n",
       "      <th>0</th>\n",
       "      <td>1</td>\n",
       "      <td>-1.559587</td>\n",
       "      <td>-0.993626</td>\n",
       "      <td>-1.224910</td>\n",
       "      <td>-0.017563</td>\n",
       "      <td>-0.267462</td>\n",
       "      <td>-0.342558</td>\n",
       "      <td>-0.967342</td>\n",
       "      <td>-0.018776</td>\n",
       "      <td>-1.428350</td>\n",
       "      <td>0.356347</td>\n",
       "      <td>HomeImp</td>\n",
       "      <td>Other</td>\n",
       "    </tr>\n",
       "    <tr>\n",
       "      <th>1</th>\n",
       "      <td>1</td>\n",
       "      <td>-1.550817</td>\n",
       "      <td>-1.039240</td>\n",
       "      <td>-1.174897</td>\n",
       "      <td>0.251809</td>\n",
       "      <td>-0.267462</td>\n",
       "      <td>-0.342558</td>\n",
       "      <td>-1.122053</td>\n",
       "      <td>-0.666629</td>\n",
       "      <td>-1.428350</td>\n",
       "      <td>0.329025</td>\n",
       "      <td>HomeImp</td>\n",
       "      <td>Other</td>\n",
       "    </tr>\n",
       "    <tr>\n",
       "      <th>2</th>\n",
       "      <td>0</td>\n",
       "      <td>-1.506968</td>\n",
       "      <td>0.607570</td>\n",
       "      <td>0.260973</td>\n",
       "      <td>-0.960364</td>\n",
       "      <td>-0.267462</td>\n",
       "      <td>-0.342558</td>\n",
       "      <td>-1.094930</td>\n",
       "      <td>-0.666629</td>\n",
       "      <td>-0.905133</td>\n",
       "      <td>-0.303684</td>\n",
       "      <td>HomeImp</td>\n",
       "      <td>Office</td>\n",
       "    </tr>\n",
       "    <tr>\n",
       "      <th>3</th>\n",
       "      <td>1</td>\n",
       "      <td>-1.498198</td>\n",
       "      <td>-0.897428</td>\n",
       "      <td>-1.093133</td>\n",
       "      <td>0.386495</td>\n",
       "      <td>-0.267462</td>\n",
       "      <td>-0.342558</td>\n",
       "      <td>-1.344679</td>\n",
       "      <td>-0.018776</td>\n",
       "      <td>-0.067985</td>\n",
       "      <td>0.493725</td>\n",
       "      <td>HomeImp</td>\n",
       "      <td>Mgr</td>\n",
       "    </tr>\n",
       "    <tr>\n",
       "      <th>4</th>\n",
       "      <td>0</td>\n",
       "      <td>-1.498198</td>\n",
       "      <td>0.520156</td>\n",
       "      <td>0.191721</td>\n",
       "      <td>-0.690992</td>\n",
       "      <td>-0.267462</td>\n",
       "      <td>-0.342558</td>\n",
       "      <td>-1.060586</td>\n",
       "      <td>-0.666629</td>\n",
       "      <td>-0.905133</td>\n",
       "      <td>-0.531456</td>\n",
       "      <td>HomeImp</td>\n",
       "      <td>Office</td>\n",
       "    </tr>\n",
       "  </tbody>\n",
       "</table>\n",
       "</div>"
      ],
      "text/plain": [
       "   BAD      LOAN   MORTDUE     VALUE       YOJ     DEROG    DELINQ     CLAGE  \\\n",
       "0    1 -1.559587 -0.993626 -1.224910 -0.017563 -0.267462 -0.342558 -0.967342   \n",
       "1    1 -1.550817 -1.039240 -1.174897  0.251809 -0.267462 -0.342558 -1.122053   \n",
       "2    0 -1.506968  0.607570  0.260973 -0.960364 -0.267462 -0.342558 -1.094930   \n",
       "3    1 -1.498198 -0.897428 -1.093133  0.386495 -0.267462 -0.342558 -1.344679   \n",
       "4    0 -1.498198  0.520156  0.191721 -0.690992 -0.267462 -0.342558 -1.060586   \n",
       "\n",
       "       NINQ      CLNO   DEBTINC   REASON     JOB  \n",
       "0 -0.018776 -1.428350  0.356347  HomeImp   Other  \n",
       "1 -0.666629 -1.428350  0.329025  HomeImp   Other  \n",
       "2 -0.666629 -0.905133 -0.303684  HomeImp  Office  \n",
       "3 -0.018776 -0.067985  0.493725  HomeImp     Mgr  \n",
       "4 -0.666629 -0.905133 -0.531456  HomeImp  Office  "
      ]
     },
     "execution_count": 19,
     "metadata": {},
     "output_type": "execute_result"
    }
   ],
   "source": [
    "# BAD 데이터를 0과 1로 변환 \n",
    "df_scaled[\"BAD\"]=np.where(df_scaled[\"BAD\"]>0,1,0)\n",
    "df_scaled.head()"
   ]
  },
  {
   "cell_type": "code",
   "execution_count": 20,
   "metadata": {},
   "outputs": [],
   "source": [
    "# 데이터 분할 \n",
    "df_scaled_train, df_scaled_test=train_test_split(df_scaled,test_size=0.3, random_state=1234)"
   ]
  },
  {
   "cell_type": "code",
   "execution_count": 24,
   "metadata": {},
   "outputs": [
    {
     "name": "stdout",
     "output_type": "stream",
     "text": [
      "Optimization terminated successfully.\n",
      "         Current function value: 0.237614\n",
      "         Iterations 8\n",
      "                           Logit Regression Results                           \n",
      "==============================================================================\n",
      "Dep. Variable:                    BAD   No. Observations:                 2623\n",
      "Model:                          Logit   Df Residuals:                     2606\n",
      "Method:                           MLE   Df Model:                           16\n",
      "Date:                Tue, 24 Nov 2020   Pseudo R-squ.:                  0.2257\n",
      "Time:                        05:03:00   Log-Likelihood:                -623.26\n",
      "converged:                       True   LL-Null:                       -804.91\n",
      "Covariance Type:            nonrobust   LLR p-value:                 1.743e-67\n",
      "========================================================================================\n",
      "                           coef    std err          z      P>|z|      [0.025      0.975]\n",
      "----------------------------------------------------------------------------------------\n",
      "Intercept               -5.0942      0.560     -9.100      0.000      -6.191      -3.997\n",
      "C(REASON)[T.HomeImp]    -0.0080      0.176     -0.045      0.964      -0.354       0.338\n",
      "C(JOB)[T.Office]        -0.8256      0.294     -2.807      0.005      -1.402      -0.249\n",
      "C(JOB)[T.Other]         -0.3304      0.227     -1.454      0.146      -0.776       0.115\n",
      "C(JOB)[T.ProfExe]       -0.4247      0.271     -1.566      0.117      -0.956       0.107\n",
      "C(JOB)[T.Sales]          1.1323      0.476      2.381      0.017       0.200       2.064\n",
      "C(JOB)[T.Self]          -0.0454      0.432     -0.105      0.916      -0.892       0.801\n",
      "LOAN                 -1.223e-05   8.08e-06     -1.514      0.130   -2.81e-05     3.6e-06\n",
      "MORTDUE               -2.14e-06   3.57e-06     -0.599      0.549   -9.15e-06    4.87e-06\n",
      "VALUE                 3.061e-06   3.04e-06      1.008      0.313   -2.89e-06    9.01e-06\n",
      "YOJ                     -0.0053      0.012     -0.461      0.645      -0.028       0.017\n",
      "DEROG                    0.6221      0.103      6.043      0.000       0.420       0.824\n",
      "DELINQ                   0.7456      0.077      9.648      0.000       0.594       0.897\n",
      "CLAGE                   -0.0050      0.001     -4.320      0.000      -0.007      -0.003\n",
      "NINQ                     0.0939      0.044      2.131      0.033       0.008       0.180\n",
      "CLNO                    -0.0230      0.009     -2.587      0.010      -0.040      -0.006\n",
      "DEBTINC                  0.1097      0.012      8.829      0.000       0.085       0.134\n",
      "========================================================================================\n"
     ]
    }
   ],
   "source": [
    "# from_formula 함수를 이용하여 변수 역할 지정 \n",
    "scaled_log_model=Logit.from_formula(\"\"\"BAD ~ LOAN + MORTDUE + VALUE + C(REASON) + C(JOB) + YOJ + DEROG\\\n",
    "                            + DELINQ + CLAGE + NINQ + CLNO + DEBTINC\"\"\", df_train)\n",
    "scaled_log_result=scaled_log_model.fit()\n",
    "print(scaled_log_result.summary())"
   ]
  },
  {
   "cell_type": "code",
   "execution_count": 25,
   "metadata": {},
   "outputs": [
    {
     "data": {
      "text/plain": [
       "<matplotlib.axes._subplots.AxesSubplot at 0x7f9cbeb0dc40>"
      ]
     },
     "execution_count": 25,
     "metadata": {},
     "output_type": "execute_result"
    },
    {
     "name": "stderr",
     "output_type": "stream",
     "text": [
      "/home/piai/anaconda3/lib/python3.8/site-packages/matplotlib/backends/backend_agg.py:214: RuntimeWarning: Glyph 8722 missing from current font.\n",
      "  font.set_text(s, 0.0, flags=flags)\n",
      "/home/piai/anaconda3/lib/python3.8/site-packages/matplotlib/backends/backend_agg.py:183: RuntimeWarning: Glyph 8722 missing from current font.\n",
      "  font.set_text(s, 0, flags=flags)\n"
     ]
    },
    {
     "data": {
      "image/png": "[encoded data removed]",
      "text/plain": [
       "<Figure size 432x288 with 1 Axes>"
      ]
     },
     "metadata": {
      "needs_background": "light"
     },
     "output_type": "display_data"
    }
   ],
   "source": [
    "# 변수 중요도 확인\n",
    "df_reg_scaled_coef=pd.DataFrame({\"Coef\":scaled_log_result.params.values[1:]},\\\n",
    "                         index = scaled_log_model.exog_names[1:])\n",
    "df_reg_scaled_coef.plot.barh(y='Coef', legend=True)"
   ]
  }
 ],
 "metadata": {
  "kernelspec": {
   "display_name": "Python 3",
   "language": "python",
   "name": "python3"
  },
  "language_info": {
   "codemirror_mode": {
    "name": "ipython",
    "version": 3
   },
   "file_extension": ".py",
   "mimetype": "text/x-python",
   "name": "python",
   "nbconvert_exporter": "python",
   "pygments_lexer": "ipython3",
   "version": "3.8.3"
  }
 },
 "nbformat": 4,
 "nbformat_minor": 4
}
