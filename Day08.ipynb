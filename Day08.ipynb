{
 "cells": [
  {
   "cell_type": "code",
   "execution_count": 2,
   "metadata": {},
   "outputs": [],
   "source": [
    "import pandas as pd #데이터 구성 패키지 : Series, DataFrame\n",
    "import numpy as np #행렬 연산 패키지\n",
    "import matplotlib #데이터 시각화 패키지\n",
    "import matplotlib.pyplot as plt\n",
    "import seaborn as sns #데이터 시각화(추세 등)패키지\n",
    "from scipy import stats #통계 분석 패키지\n",
    "import scipy.stats \n",
    "\n",
    "%matplotlib inline \n",
    "#jupyter notebook 내 그래프를 바로 그리기 위한 설정  "
   ]
  },
  {
   "cell_type": "code",
   "execution_count": 3,
   "metadata": {},
   "outputs": [],
   "source": [
    "matplotlib.rc('font', family='Malgun Gothic') #matplotlib 패키지 한글 깨짐 처리 시작\n",
    "plt.rc('font', family='Malgun Gothic') "
   ]
  },
  {
   "cell_type": "code",
   "execution_count": 7,
   "metadata": {},
   "outputs": [
    {
     "data": {
      "text/html": [
       "<div>\n",
       "<style scoped>\n",
       "    .dataframe tbody tr th:only-of-type {\n",
       "        vertical-align: middle;\n",
       "    }\n",
       "\n",
       "    .dataframe tbody tr th {\n",
       "        vertical-align: top;\n",
       "    }\n",
       "\n",
       "    .dataframe thead th {\n",
       "        text-align: right;\n",
       "    }\n",
       "</style>\n",
       "<table border=\"1\" class=\"dataframe\">\n",
       "  <thead>\n",
       "    <tr style=\"text-align: right;\">\n",
       "      <th></th>\n",
       "      <th>work_1</th>\n",
       "      <th>work_2</th>\n",
       "      <th>work_3</th>\n",
       "      <th>work_4</th>\n",
       "    </tr>\n",
       "  </thead>\n",
       "  <tbody>\n",
       "    <tr>\n",
       "      <th>HSG28</th>\n",
       "      <td>270</td>\n",
       "      <td>260</td>\n",
       "      <td>236</td>\n",
       "      <td>234</td>\n",
       "    </tr>\n",
       "    <tr>\n",
       "      <th>SS400</th>\n",
       "      <td>228</td>\n",
       "      <td>285</td>\n",
       "      <td>225</td>\n",
       "      <td>262</td>\n",
       "    </tr>\n",
       "    <tr>\n",
       "      <th>SPA-H</th>\n",
       "      <td>277</td>\n",
       "      <td>284</td>\n",
       "      <td>231</td>\n",
       "      <td>208</td>\n",
       "    </tr>\n",
       "  </tbody>\n",
       "</table>\n",
       "</div>"
      ],
      "text/plain": [
       "       work_1  work_2  work_3  work_4\n",
       "HSG28     270     260     236     234\n",
       "SS400     228     285     225     262\n",
       "SPA-H     277     284     231     208"
      ]
     },
     "execution_count": 7,
     "metadata": {},
     "output_type": "execute_result"
    }
   ],
   "source": [
    "df=pd.DataFrame({'work_1':[270,228,277],\n",
    "                 'work_2':[260,285,284],\n",
    "                 'work_3':[236,225,231],\n",
    "                 'work_4':[234,262,208]},\n",
    "                 index=['HSG28','SS400','SPA-H'])\n",
    "chi, pval, dof, expected=stats.chi2_contingency(df.T)\n",
    "df"
   ]
  },
  {
   "cell_type": "code",
   "execution_count": 12,
   "metadata": {},
   "outputs": [
    {
     "name": "stdout",
     "output_type": "stream",
     "text": [
      "chi2 test\n",
      "chi2:13.366\n",
      "p-value: 0.038\n",
      "degree of freedom:6\n",
      "expected value: \n",
      "[[258.333 276.333 230.667 234.667]\n",
      " [258.333 276.333 230.667 234.667]\n",
      " [258.333 276.333 230.667 234.667]]\n"
     ]
    }
   ],
   "source": [
    "from scipy.stats import chi2_contingency\n",
    "\n",
    "chi, pval, dof, expected = stats.chi2_contingency(df)\n",
    "\n",
    "print(\"chi2 test\")\n",
    "print(\"chi2:{0:0.3f}\".format(chi))\n",
    "print(\"p-value: {0:0.3f}\".format(pval))\n",
    "print(\"degree of freedom:{}\".format(dof))\n",
    "print(\"expected value: \\n{}\".format(expected.round(3)))"
   ]
  },
  {
   "cell_type": "code",
   "execution_count": 26,
   "metadata": {},
   "outputs": [
    {
     "ename": "AttributeError",
     "evalue": "module 'statsmodels.api' has no attribute 'ols'",
     "output_type": "error",
     "traceback": [
      "\u001b[0;31m---------------------------------------------------------------------------\u001b[0m",
      "\u001b[0;31mAttributeError\u001b[0m                            Traceback (most recent call last)",
      "\u001b[0;32m<ipython-input-26-ac68b779fff0>\u001b[0m in \u001b[0;36m<module>\u001b[0;34m\u001b[0m\n\u001b[1;32m      9\u001b[0m \u001b[0;31m# Simple Linear Regression 실행\u001b[0m\u001b[0;34m\u001b[0m\u001b[0;34m\u001b[0m\u001b[0;34m\u001b[0m\u001b[0m\n\u001b[1;32m     10\u001b[0m \u001b[0mMinutes\u001b[0m\u001b[0;34m=\u001b[0m\u001b[0msm\u001b[0m\u001b[0;34m.\u001b[0m\u001b[0madd_constant\u001b[0m\u001b[0;34m(\u001b[0m\u001b[0mMinutes\u001b[0m\u001b[0;34m)\u001b[0m\u001b[0;34m\u001b[0m\u001b[0;34m\u001b[0m\u001b[0m\n\u001b[0;32m---> 11\u001b[0;31m \u001b[0mmodel\u001b[0m\u001b[0;34m=\u001b[0m\u001b[0msm\u001b[0m\u001b[0;34m.\u001b[0m\u001b[0mols\u001b[0m\u001b[0;34m(\u001b[0m\u001b[0mUnits\u001b[0m\u001b[0;34m,\u001b[0m\u001b[0mMinutes\u001b[0m\u001b[0;34m)\u001b[0m\u001b[0;34m\u001b[0m\u001b[0;34m\u001b[0m\u001b[0m\n\u001b[0m\u001b[1;32m     12\u001b[0m \u001b[0mresult\u001b[0m\u001b[0;34m=\u001b[0m\u001b[0mmodel\u001b[0m\u001b[0;34m.\u001b[0m\u001b[0mfit\u001b[0m\u001b[0;34m(\u001b[0m\u001b[0;34m)\u001b[0m\u001b[0;34m\u001b[0m\u001b[0;34m\u001b[0m\u001b[0m\n\u001b[1;32m     13\u001b[0m \u001b[0mprint\u001b[0m\u001b[0;34m(\u001b[0m\u001b[0mresult\u001b[0m\u001b[0;34m.\u001b[0m\u001b[0msummary\u001b[0m\u001b[0;34m(\u001b[0m\u001b[0;34m)\u001b[0m\u001b[0;34m)\u001b[0m\u001b[0;34m\u001b[0m\u001b[0;34m\u001b[0m\u001b[0m\n",
      "\u001b[0;31mAttributeError\u001b[0m: module 'statsmodels.api' has no attribute 'ols'"
     ]
    }
   ],
   "source": [
    "import statsmodels.formula.api as smf\n",
    "import statsmodels.api as sm \n",
    "from statsmodels.formula.api import ols\n",
    "from statsmodels.stats.anova import anova_lm \n",
    "\n",
    "# 데이터 선언\n",
    "Minutes=[1,2,3,4,4,5,6,6,7,8]\n",
    "Units=[23,29,49,64,74,87,96,97,109,119]\n",
    "# Simple Linear Regression 실행\n",
    "Minutes=sm.add_constant(Minutes)\n",
    "model=sm.ols(Units,Minutes)\n",
    "result=model.fit()\n",
    "print(result.summary())"
   ]
  },
  {
   "cell_type": "code",
   "execution_count": 16,
   "metadata": {},
   "outputs": [
    {
     "ename": "ModuleNotFoundError",
     "evalue": "No module named 'statsmodels.formual'",
     "output_type": "error",
     "traceback": [
      "\u001b[0;31m---------------------------------------------------------------------------\u001b[0m",
      "\u001b[0;31mModuleNotFoundError\u001b[0m                       Traceback (most recent call last)",
      "\u001b[0;32m<ipython-input-16-412b1e7b6229>\u001b[0m in \u001b[0;36m<module>\u001b[0;34m\u001b[0m\n\u001b[1;32m      1\u001b[0m \u001b[0;32mfrom\u001b[0m \u001b[0msklearn\u001b[0m\u001b[0;34m.\u001b[0m\u001b[0mlinear_model\u001b[0m \u001b[0;32mimport\u001b[0m \u001b[0mLinearRegression\u001b[0m\u001b[0;34m\u001b[0m\u001b[0;34m\u001b[0m\u001b[0m\n\u001b[0;32m----> 2\u001b[0;31m \u001b[0;32mimport\u001b[0m \u001b[0mstatsmodels\u001b[0m\u001b[0;34m.\u001b[0m\u001b[0mformual\u001b[0m\u001b[0;34m.\u001b[0m\u001b[0mapi\u001b[0m \u001b[0;32mas\u001b[0m \u001b[0msmf\u001b[0m\u001b[0;34m\u001b[0m\u001b[0;34m\u001b[0m\u001b[0m\n\u001b[0m",
      "\u001b[0;31mModuleNotFoundError\u001b[0m: No module named 'statsmodels.formual'"
     ]
    }
   ],
   "source": [
    "from sklearn.linear_model import LinearRegression \n",
    "import statsmodels.formuala.api as smf\n",
    "formula=\"MiNUTES~UNITS\"\n",
    "model=smf.ols(formula, data=df)"
   ]
  },
  {
   "cell_type": "code",
   "execution_count": 41,
   "metadata": {},
   "outputs": [
    {
     "name": "stdout",
     "output_type": "stream",
     "text": [
      "                            OLS Regression Results                            \n",
      "==============================================================================\n",
      "Dep. Variable:               strength   R-squared:                       0.933\n",
      "Model:                            OLS   Adj. R-squared:                  0.932\n",
      "Method:                 Least Squares   F-statistic:                     1169.\n",
      "Date:                Wed, 11 Nov 2020   Prob (F-statistic):           4.60e-51\n",
      "Time:                        16:50:35   Log-Likelihood:                -107.75\n",
      "No. Observations:                  86   AIC:                             219.5\n",
      "Df Residuals:                      84   BIC:                             224.4\n",
      "Df Model:                           1                                         \n",
      "Covariance Type:            nonrobust                                         \n",
      "==============================================================================\n",
      "                 coef    std err          t      P>|t|      [0.025      0.975]\n",
      "------------------------------------------------------------------------------\n",
      "Intercept      2.1034      0.885      2.377      0.020       0.343       3.863\n",
      "b_time        44.5520      1.303     34.186      0.000      41.960      47.144\n",
      "==============================================================================\n",
      "Omnibus:                        5.137   Durbin-Watson:                   1.395\n",
      "Prob(Omnibus):                  0.077   Jarque-Bera (JB):                2.908\n",
      "Skew:                           0.228   Prob(JB):                        0.234\n",
      "Kurtosis:                       2.223   Cond. No.                         20.6\n",
      "==============================================================================\n",
      "\n",
      "Warnings:\n",
      "[1] Standard Errors assume that the covariance matrix of the errors is correctly specified.\n",
      "\n",
      "H0: 정규성을 가진다.\n",
      "H1: 정규성을 가지지 않는다.\n",
      "\n",
      "회귀식은 b_time=2.10+44.55*strength이고 설명력은 93.3%이다. p-value는 0.05보다 작으므로 정규성을 가지지 않는다고 볼 수 있다.\n"
     ]
    },
    {
     "data": {
      "image/png": "[encoded data removed]",
      "text/plain": [
       "<Figure size 432x288 with 1 Axes>"
      ]
     },
     "metadata": {
      "needs_background": "light"
     },
     "output_type": "display_data"
    }
   ],
   "source": [
    "df_raw=pd.read_csv(\"/home/piai/Downloads/데이터/correlation.csv\", engine='python')\n",
    "df_raw.head(3)\n",
    "\n",
    "from sklearn.linear_model import LinearRegression \n",
    "import statsmodels.formula.api as smf\n",
    "df_raw.plot.scatter(x=\"b_time\",y=\"strength\")\n",
    "formula=\"strength~b_time\" #\"y~x\"\n",
    "model=smf.ols(formula, data=df_raw)\n",
    "result=model.fit()\n",
    "\n",
    "print(result.summary())\n",
    "print()\n",
    "print(\"H0: 정규성을 가진다.\")\n",
    "print(\"H1: 정규성을 가지지 않는다.\")\n",
    "print(\"\")\n",
    "print(\"회귀식은 b_time=2.10+44.55*strength이고 설명력은 93.3%이다. p-value는 0.05보다 작으므로 정규성을 가지지 않는다고 볼 수 있다.\")"
   ]
  },
  {
   "cell_type": "code",
   "execution_count": 47,
   "metadata": {},
   "outputs": [
    {
     "data": {
      "text/html": [
       "<div>\n",
       "<style scoped>\n",
       "    .dataframe tbody tr th:only-of-type {\n",
       "        vertical-align: middle;\n",
       "    }\n",
       "\n",
       "    .dataframe tbody tr th {\n",
       "        vertical-align: top;\n",
       "    }\n",
       "\n",
       "    .dataframe thead th {\n",
       "        text-align: right;\n",
       "    }\n",
       "</style>\n",
       "<table border=\"1\" class=\"dataframe\">\n",
       "  <thead>\n",
       "    <tr style=\"text-align: right;\">\n",
       "      <th></th>\n",
       "      <th>EVAL</th>\n",
       "      <th>DISSATIS</th>\n",
       "      <th>PRIVILEGE</th>\n",
       "      <th>CHANCE</th>\n",
       "      <th>ADVANCE</th>\n",
       "      <th>CRITISM</th>\n",
       "      <th>PROMOTION</th>\n",
       "    </tr>\n",
       "  </thead>\n",
       "  <tbody>\n",
       "    <tr>\n",
       "      <th>0</th>\n",
       "      <td>43</td>\n",
       "      <td>51</td>\n",
       "      <td>30</td>\n",
       "      <td>39</td>\n",
       "      <td>61</td>\n",
       "      <td>92</td>\n",
       "      <td>45</td>\n",
       "    </tr>\n",
       "    <tr>\n",
       "      <th>1</th>\n",
       "      <td>63</td>\n",
       "      <td>64</td>\n",
       "      <td>51</td>\n",
       "      <td>54</td>\n",
       "      <td>63</td>\n",
       "      <td>73</td>\n",
       "      <td>47</td>\n",
       "    </tr>\n",
       "    <tr>\n",
       "      <th>2</th>\n",
       "      <td>71</td>\n",
       "      <td>70</td>\n",
       "      <td>68</td>\n",
       "      <td>69</td>\n",
       "      <td>76</td>\n",
       "      <td>86</td>\n",
       "      <td>48</td>\n",
       "    </tr>\n",
       "  </tbody>\n",
       "</table>\n",
       "</div>"
      ],
      "text/plain": [
       "   EVAL  DISSATIS  PRIVILEGE  CHANCE  ADVANCE  CRITISM  PROMOTION\n",
       "0    43        51         30      39       61       92         45\n",
       "1    63        64         51      54       63       73         47\n",
       "2    71        70         68      69       76       86         48"
      ]
     },
     "execution_count": 47,
     "metadata": {},
     "output_type": "execute_result"
    }
   ],
   "source": [
    "# F-statistics값이 크다. \n",
    "# omnibus 정규성 검정 \n",
    "df_1.head(3)"
   ]
  },
  {
   "cell_type": "code",
   "execution_count": 53,
   "metadata": {},
   "outputs": [
    {
     "name": "stdout",
     "output_type": "stream",
     "text": [
      "                            OLS Regression Results                            \n",
      "==============================================================================\n",
      "Dep. Variable:                   EVAL   R-squared:                       0.681\n",
      "Model:                            OLS   Adj. R-squared:                  0.670\n",
      "Method:                 Least Squares   F-statistic:                     59.86\n",
      "Date:                Wed, 11 Nov 2020   Prob (F-statistic):           1.99e-08\n",
      "Time:                        17:03:59   Log-Likelihood:                -99.882\n",
      "No. Observations:                  30   AIC:                             203.8\n",
      "Df Residuals:                      28   BIC:                             206.6\n",
      "Df Model:                           1                                         \n",
      "Covariance Type:            nonrobust                                         \n",
      "==============================================================================\n",
      "                 coef    std err          t      P>|t|      [0.025      0.975]\n",
      "------------------------------------------------------------------------------\n",
      "Intercept     14.3763      6.620      2.172      0.039       0.816      27.937\n",
      "DISSATIS       0.7546      0.098      7.737      0.000       0.555       0.954\n",
      "==============================================================================\n",
      "Omnibus:                        7.462   Durbin-Watson:                   2.245\n",
      "Prob(Omnibus):                  0.024   Jarque-Bera (JB):                2.537\n",
      "Skew:                          -0.331   Prob(JB):                        0.281\n",
      "Kurtosis:                       1.739   Cond. No.                         352.\n",
      "==============================================================================\n",
      "\n",
      "Warnings:\n",
      "[1] Standard Errors assume that the covariance matrix of the errors is correctly specified.\n",
      "\n",
      "H0:정규성을 가진다\n",
      "H1:정규성을 가지지 않는다\n",
      "\n",
      "잔차의 정규성 평가 결과, p-value는 0.024로 유의수준(0.05)보다 낮으므로 정규성을 가지지 않는다라고 볼 수 있다.\n",
      "Durbin-Watson값은 2.25로 0~4중 2에 가까우므로 약한 음의 상관관계를 가짐을 알 수 있다.\n",
      "회귀식은 (직무수행평가)=14.38+0.7546*(직원의 불만 처리 수준)이며 회귀식의 설명력은 93.3%이다.\n"
     ]
    }
   ],
   "source": [
    "df_1=pd.read_csv(\"/home/piai/Downloads/통계 이해/직무능력평가.csv\",engine='python')\n",
    "df_1.head(3)\n",
    "from sklearn.linear_model import LinearRegression \n",
    "import statsmodels.formula.api as smf\n",
    "model=smf.ols(formula=\"EVAL~DISSATIS\",data=df_1)\n",
    "result=model.fit()\n",
    "print(result.summary())\n",
    "print(\"\")\n",
    "print(\"H0:정규성을 가진다\")\n",
    "print(\"H1:정규성을 가지지 않는다\")\n",
    "print(\"\")\n",
    "print(\"잔차의 정규성 평가 결과, p-value는 0.024로 유의수준(0.05)보다 낮으므로 정규성을 가지지 않는다라고 볼 수 있다.\") #모델이 정확하지 ㅏㄶ다. \n",
    "print(\"Durbin-Watson값은 2.25로 0~4중 2에 가까우므로 약한 음의 상관관계를 가짐을 알 수 있다.\")\n",
    "print(\"회귀식은 (직무수행평가)=14.38+0.7546*(직원의 불만 처리 수준)이며 회귀식의 설명력은 93.3%이다.\")\n",
    "#F-statistic \n",
    "#계수 값이 크면 영향력이 크다. 두 단위를 확인해야 한다. 계수들도 표준화한다. ???"
   ]
  },
  {
   "cell_type": "code",
   "execution_count": 54,
   "metadata": {},
   "outputs": [],
   "source": [
    "# 기술통계 \n",
    "# 중위값이 outliner에 둔감하다. \n",
    "# 변수들의 연속성(측정에서 나오는 것),이산형\n",
    "# 정규성 : 정규분포란 평균을 중심으로 좌우 대칭인 종모양 분포 \n",
    "# x=N(mu,sigma**2) > x_bar ~ N(mu,sigma/(n.sqrt(0.5))**2) (if 모집단이 정규분포를 따른다면 표본집단도 정규분포를 따른다.)\n",
    "# z=(x-mu)/sigma > z~(0,1) : 표준 정규분포\n",
    "# 표준편차가 크면 그래프가 넓게 퍼진다. \n",
    "\n",
    "# 추론검정 \n",
    "# H0: p-value > alpha(0.05) mu_a=mu_b sigma**2_a=sigma**2_b \n",
    "# H1: p-value < alpha(0.05) mu_a!=mu_b sigma**2_a!=sigma**2_b\n",
    "# 가설은 통계량이 아닌 모수로 세운다. \n",
    "# 제 1종 오류 : H0가 참일 떄 H0를 기각할 오류 \n",
    "\n",
    "# 구간추정 \n",
    "# z=0.05 일 때 1.645 \n",
    "# z=0.025 일 때 1.96 \n",
    "# x_bar +- t(a/2,n-1)s/루트n : 모표준편차를 모를 때 표본으로 추론 \n",
    "# H0는 차이가 없다. H1은 차이가 있다. "
   ]
  },
  {
   "cell_type": "code",
   "execution_count": null,
   "metadata": {},
   "outputs": [],
   "source": [
    "class set:\n",
    "    \n",
    "    def __init__(self):\n",
    "        self "
   ]
  }
 ],
 "metadata": {
  "kernelspec": {
   "display_name": "Python 3",
   "language": "python",
   "name": "python3"
  },
  "language_info": {
   "codemirror_mode": {
    "name": "ipython",
    "version": 3
   },
   "file_extension": ".py",
   "mimetype": "text/x-python",
   "name": "python",
   "nbconvert_exporter": "python",
   "pygments_lexer": "ipython3",
   "version": "3.8.3"
  }
 },
 "nbformat": 4,
 "nbformat_minor": 4
}
