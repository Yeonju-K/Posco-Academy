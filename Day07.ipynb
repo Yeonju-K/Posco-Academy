{
 "cells": [
  {
   "cell_type": "code",
   "execution_count": 51,
   "metadata": {},
   "outputs": [],
   "source": [
    "import pandas as pd #데이터 구성 패키지 : Series, DataFrame\n",
    "import numpy as np #행렬 연산 패키지\n",
    "import matplotlib #데이터 시각화 패키지\n",
    "import matplotlib.pyplot as plt\n",
    "import seaborn as sns #데이터 시각화(추세 등)패키지\n",
    "from scipy import stats #통계 분석 패키지\n",
    "import scipy.stats \n",
    "\n",
    "%matplotlib inline \n",
    "#jupyter notebook 내 그래프를 바로 그리기 위한 설정  "
   ]
  },
  {
   "cell_type": "code",
   "execution_count": 52,
   "metadata": {},
   "outputs": [],
   "source": [
    "matplotlib.rc('font', family='Malgun Gothic') #matplotlib 패키지 한글 깨짐 처리 시작\n",
    "plt.rc('font', family='Malgun Gothic') "
   ]
  },
  {
   "cell_type": "code",
   "execution_count": 3,
   "metadata": {},
   "outputs": [
    {
     "name": "stdout",
     "output_type": "stream",
     "text": [
      "P(X>=x):0.195184\n"
     ]
    }
   ],
   "source": [
    "# weibull 분포에서 확률 계산하기\n",
    "\n",
    "# 형상모수(alpha) : 2.2\n",
    "x=1500\n",
    "alpha=2.2\n",
    "beta=1200\n",
    "\n",
    "prob=stats.weibull_min.cdf(x,alpha,scale=beta)\n",
    "print(\"P(X>=x):{:3f}\".format((1-prob)))"
   ]
  },
  {
   "cell_type": "code",
   "execution_count": 4,
   "metadata": {},
   "outputs": [
    {
     "name": "stdout",
     "output_type": "stream",
     "text": [
      "P(X=0)=0.216000\n",
      "P(X=1)=0.432000\n",
      "P(X=2)=0.288000\n",
      "P(X=3)=0.064000\n"
     ]
    }
   ],
   "source": [
    "n=3 \n",
    "for i in range(n+1):\n",
    "    prob=stats.binom.pmf(k=i, n=n, p=0.4)\n",
    "    print(\"P(X={0})={1:3f}\".format(i,prob))"
   ]
  },
  {
   "cell_type": "code",
   "execution_count": 19,
   "metadata": {},
   "outputs": [
    {
     "name": "stdout",
     "output_type": "stream",
     "text": [
      "1분당 3번의 전화가 걸려올 확률: 18.0\n",
      "1분당 최대 2회 이하의 전화가 걸려올 확률: 67.7\n"
     ]
    }
   ],
   "source": [
    "#포아송 분포 \n",
    "mu=2\n",
    "prob=stats.poisson.pmf(3,mu)\n",
    "cdf_prob=stats.poisson.cdf(2,mu)\n",
    "print(\"1분당 {0}번의 전화가 걸려올 확률: {1:.1f}\".format(3,prob*100))\n",
    "print(\"1분당 최대 {0}회 이하의 전화가 걸려올 확률: {1:.1f}\".format(2,cdf_prob*100))"
   ]
  },
  {
   "cell_type": "code",
   "execution_count": 10,
   "metadata": {},
   "outputs": [
    {
     "name": "stdout",
     "output_type": "stream",
     "text": [
      "2명의 손님이 도착할 확률: 22.4%\n",
      "1명 이하의 손님이 도착할 확률: 19.9%\n",
      "3명 이상의 손님이 도착할 확률: 35.3%\n"
     ]
    }
   ],
   "source": [
    "#실습\n",
    "mu=3\n",
    "prob1=stats.poisson.cdf(1,mu)\n",
    "prob2=stats.poisson.pmf(2,mu)\n",
    "prob3=stats.poisson.cdf(3,mu)\n",
    "print(\"{0}명의 손님이 도착할 확률: {1:.1f}%\".format(2,prob2*100))\n",
    "print(\"{0}명 이하의 손님이 도착할 확률: {1:.1f}%\".format(1,prob1*100))\n",
    "print(\"{0}명 이상의 손님이 도착할 확률: {1:.1f}%\".format(3,(1-prob3)*100))"
   ]
  },
  {
   "cell_type": "code",
   "execution_count": 18,
   "metadata": {},
   "outputs": [
    {
     "name": "stdout",
     "output_type": "stream",
     "text": [
      "Shapiro_Wilk Test: statistic=0.979, p-value=0.107\n"
     ]
    }
   ],
   "source": [
    "from scipy.stats import shapiro \n",
    "df_camshaft=pd.read_csv(\"/home/piai/바탕화면/강연주/수업/통계 이해/camshaft.csv\", engine='python')\n",
    "df_camshaft.head()\n",
    "data1=ds_camshaft['Supp1']\n",
    "statistic,p=shapiro(data1)\n",
    "print(\"Shapiro_Wilk Test: statistic={0:.3f}, p-value={1:.3f}\".format(statistic,p)) #H0채택 "
   ]
  },
  {
   "cell_type": "code",
   "execution_count": 38,
   "metadata": {},
   "outputs": [
    {
     "name": "stdout",
     "output_type": "stream",
     "text": [
      "Shapiro_Wilk Test: statistic=0.906, p-value=0.256\n"
     ]
    }
   ],
   "source": [
    "#실습 \n",
    "df_2sample=pd.read_csv(\"/home/piai/바탕화면/강연주/수업/통계 이해/2sample_t_test.csv\", engine='python')\n",
    "df_2sample.head()\n",
    "sample_1=df_2sample['Mat_A'][0:10] #결측치 제거 \n",
    "statistic_1,p_1=shapiro(sample_1)\n",
    "print(\"Shapiro_Wilk Test: statistic={0:.3f}, p-value={1:.3f}\".format(statistic_1,p_1))"
   ]
  },
  {
   "cell_type": "code",
   "execution_count": 40,
   "metadata": {},
   "outputs": [
    {
     "name": "stdout",
     "output_type": "stream",
     "text": [
      "Shapiro_Wilk Test: statistic=0.973, p-value=0.917\n"
     ]
    }
   ],
   "source": [
    "sample_2=df_2sample['Mat_B'][0:10]\n",
    "statistic_2,p_2=shapiro(sample_2)\n",
    "print(\"Shapiro_Wilk Test: statistic={0:.3f}, p-value={1:.3f}\".format(statistic_2,p_2))"
   ]
  },
  {
   "cell_type": "code",
   "execution_count": null,
   "metadata": {},
   "outputs": [],
   "source": [
    "m=2.7\n",
    "sigma=0.397"
   ]
  },
  {
   "cell_type": "code",
   "execution_count": 34,
   "metadata": {},
   "outputs": [
    {
     "name": "stdout",
     "output_type": "stream",
     "text": [
      "신뢰구간: ([2.57],[2.82])\n"
     ]
    }
   ],
   "source": [
    "df=pd.DataFrame({\"Sample\":[3.6,2.4,2.6,3.0,2.9,2.6,2.9,3.2,2.8,3.4,2.9,2.8,2.6,2.4,2.0,2.6,3.4,2.1,2.7,3.2,3.2,2.6,2.2,3.1,2.2,3.0,2.8,2.9,2.6,2.4,2.7,2.7,2.6,2.7,1.8,2.7,2.4,2.4,2.5,2.2]})\n",
    "df.head()\n",
    "lower,upper=stats.norm.interval(0.95,loc=np.mean(df),scale=0.397/np.sqrt(40))\n",
    "print(\"신뢰구간: ({0},{1})\".format(lower.round(2),upper.round(2)))"
   ]
  },
  {
   "cell_type": "code",
   "execution_count": 36,
   "metadata": {},
   "outputs": [
    {
     "name": "stdout",
     "output_type": "stream",
     "text": [
      "신뢰구간:([54.39],[55.33])\n"
     ]
    }
   ],
   "source": [
    "df=pd.DataFrame({'sample':[54.1,53.3,56.1,55.7,54.0,54.1,54.5,57.1,55.2,53.8,54.1,54.1,56.1,55,55.9,56.0,54.9,54.3,53.9,55.0]})\n",
    "lower,upper=stats.t.interval(0.95,len(df)-1,loc=np.mean(df),scale=scipy.stats.sem(df))\n",
    "print(\"신뢰구간:({0},{1})\".format(lower.round(2),upper.round(2)))"
   ]
  },
  {
   "cell_type": "code",
   "execution_count": 44,
   "metadata": {},
   "outputs": [
    {
     "name": "stdout",
     "output_type": "stream",
     "text": [
      "1-Sample t-test\n",
      "t 통계량:[0.864]\n",
      "p-value:[0.41]\n"
     ]
    }
   ],
   "source": [
    "df=pd.DataFrame({'sample':[74.5,81.2,73.8,82.0,76.3,75.7,80.2,72.6,77.9,82.8]})\n",
    "t_result=stats.ttest_1samp(df,76.7)\n",
    "t,p=t_result.statistic.round(3),t_result.pvalue.round(3)\n",
    "print(\"1-Sample t-test\")\n",
    "print(\"t 통계량:{}\".format(t))\n",
    "print(\"p-value:{}\".format(p))"
   ]
  },
  {
   "cell_type": "code",
   "execution_count": 46,
   "metadata": {},
   "outputs": [],
   "source": [
    "#실습 평균 검정(모집단 표준편차를 모르는 경우) \n",
    "df=pd.DataFrame({'sample': [85.0,79.0,79.1,79.9,81.6,78.6,85.4,83.4,78.1,79.2]}) #데이터 입력 \n",
    "t_result1"
   ]
  },
  {
   "cell_type": "code",
   "execution_count": 54,
   "metadata": {},
   "outputs": [
    {
     "data": {
      "text/plain": [
       "<matplotlib.axes._subplots.AxesSubplot at 0x7fc503f8bfd0>"
      ]
     },
     "execution_count": 54,
     "metadata": {},
     "output_type": "execute_result"
    },
    {
     "data": {
      "image/png": "[encoded data removed]",
      "text/plain": [
       "<Figure size 432x288 with 1 Axes>"
      ]
     },
     "metadata": {
      "needs_background": "light"
     },
     "output_type": "display_data"
    }
   ],
   "source": [
    "df=pd.read_csv(\"/home/piai/Downloads/데이터/2sample.csv\", engine='python')\n",
    "df.boxplot(['cust A','cust B'])"
   ]
  },
  {
   "cell_type": "code",
   "execution_count": 57,
   "metadata": {},
   "outputs": [
    {
     "name": "stdout",
     "output_type": "stream",
     "text": [
      "statistic=0.91, p-value=0.06\n"
     ]
    }
   ],
   "source": [
    "#정규성 검정 :Shapiro-Wilk Test\n",
    "statistic,p=stats.shapiro(df['cust A'])\n",
    "print(\"statistic={0:.2f}, p-value={1:.2f}\".format(statistic,p))"
   ]
  },
  {
   "cell_type": "code",
   "execution_count": 59,
   "metadata": {},
   "outputs": [
    {
     "data": {
      "text/plain": [
       "LeveneResult(statistic=0.04810126582278468, pvalue=0.8275746090758196)"
      ]
     },
     "execution_count": 59,
     "metadata": {},
     "output_type": "execute_result"
    }
   ],
   "source": [
    "#등분산성 test : equal variance test \n",
    "stats.levene(df['cust A'],df['cust B'])#p-value가 0.05보다 크므로 귀무가설을 채택한다.두 집단의 분산은 같다고 할 수 있다. "
   ]
  },
  {
   "cell_type": "code",
   "execution_count": 63,
   "metadata": {},
   "outputs": [
    {
     "name": "stdout",
     "output_type": "stream",
     "text": [
      "2-Sample t_test\n",
      "t검정통계량 : -3.596\n",
      "p-value: 0.001\n"
     ]
    }
   ],
   "source": [
    "# 2 sample t-test \n",
    "t_result=stats.ttest_ind(df['cust A'], df['cust B'], equal_var=True) #서로 분산이 같다고 놓고 test\n",
    "\n",
    "#2-sample t-test의 t값 p값 저장\n",
    "t,p=t_result.statistic.round(3), t_result.pvalue.round(3)\n",
    "\n",
    "#2-sample t-test의 t값 p값 출력\n",
    "print(\"2-Sample t_test\")\n",
    "print(\"t검정통계량 : {}\".format(t))\n",
    "print(\"p-value: {}\".format(p)) #p-value가 유의수준보다 작으므로 대립 가설을 채택한다 H1채택 "
   ]
  },
  {
   "cell_type": "code",
   "execution_count": null,
   "metadata": {},
   "outputs": [],
   "source": [
    "# 실습 \n",
    "df=pd.DataFrame({'sample':[86]})"
   ]
  },
  {
   "cell_type": "code",
   "execution_count": 73,
   "metadata": {},
   "outputs": [
    {
     "name": "stdout",
     "output_type": "stream",
     "text": [
      "Paired t-test\n",
      "t검정 통계량=-5.324, pvalue=0.000\n"
     ]
    }
   ],
   "source": [
    "# Paired t-test \n",
    "df=pd.read_csv(\"/home/piai/Downloads/데이터/paired.csv\", engine='python')\n",
    "df_b=df['before']\n",
    "df_a=df['after']\n",
    "t_result=stats.ttest_rel(df_b,df_a)\n",
    "t,p=t_result.statistic.round(3), t_result.pvalue.round(3)\n",
    "\n",
    "print(\"Paired t-test\")\n",
    "print('t검정 통계량=%.3f, pvalue=%.3f'% t_result) #pvalue가 0.05보다 작으므로 대립 가설을 채택한다.학원 가기 전후 성적차이가 크다. "
   ]
  },
  {
   "cell_type": "code",
   "execution_count": 76,
   "metadata": {},
   "outputs": [
    {
     "name": "stdout",
     "output_type": "stream",
     "text": [
      "1 Proportion test\n",
      "z: 1.400\n",
      "p: 0.161\n"
     ]
    }
   ],
   "source": [
    "# 1 proportion test \n",
    "from statsmodels.stats.proportion import proportions_ztest\n",
    "count=15\n",
    "n_obs=100\n",
    "value=0.1\n",
    "stat,pval=proportions_ztest(count,n_obs,value)\n",
    "\n",
    "print(\"1 Proportion test\")\n",
    "print(\"z: {0:0.3f}\".format(stat))\n",
    "print(\"p: {0:0.3f}\".format(pval)) #p-value가 0.05보다 크므로 귀무 가설을 채택한다. "
   ]
  },
  {
   "cell_type": "code",
   "execution_count": 78,
   "metadata": {},
   "outputs": [
    {
     "name": "stdout",
     "output_type": "stream",
     "text": [
      "1 Proportion test\n",
      "z: -2.041\n",
      "p: 0.041\n"
     ]
    }
   ],
   "source": [
    "from statsmodels.stats.proportion import proportions_ztest\n",
    "count=40\n",
    "n_obs=100\n",
    "value=0.5\n",
    "stat,pval=proportions_ztest(count,n_obs,value)\n",
    "\n",
    "print(\"1 Proportion test\")\n",
    "print(\"z: {0:0.3f}\".format(stat))\n",
    "print(\"p: {0:0.3f}\".format(pval)) #p-value가 0.05보다 작으므로 대립 가설을 채택한다. 동전이 앞면이 나올 확률은 0.5%가 아닐 수 있다. "
   ]
  },
  {
   "cell_type": "code",
   "execution_count": 77,
   "metadata": {},
   "outputs": [
    {
     "name": "stdout",
     "output_type": "stream",
     "text": [
      "2 proportion test\n",
      "z검정통게량 : 1.553\n",
      "p-value:0.120\n"
     ]
    }
   ],
   "source": [
    "# 2 proportion test #\n",
    "#변수 선언\n",
    "count=np.array([4,1])\n",
    "nobs=np.array([1000,1200])\n",
    "\n",
    "#Proportion test 실행\n",
    "stat,pval=proportions_ztest(count,nobs)\n",
    "\n",
    "#Proportion test 결과 출력\n",
    "print(\"2 proportion test\")\n",
    "print('z검정통게량 : {0:0.3f}'.format(stat))\n",
    "print('p-value:{0:0.3f}'.format(pval)) #p-value가 0.05보다 크므로 귀무 가설을 채택한다. "
   ]
  },
  {
   "cell_type": "code",
   "execution_count": null,
   "metadata": {},
   "outputs": [],
   "source": []
  }
 ],
 "metadata": {
  "kernelspec": {
   "display_name": "Python 3",
   "language": "python",
   "name": "python3"
  },
  "language_info": {
   "codemirror_mode": {
    "name": "ipython",
    "version": 3
   },
   "file_extension": ".py",
   "mimetype": "text/x-python",
   "name": "python",
   "nbconvert_exporter": "python",
   "pygments_lexer": "ipython3",
   "version": "3.8.3"
  }
 },
 "nbformat": 4,
 "nbformat_minor": 4
}
