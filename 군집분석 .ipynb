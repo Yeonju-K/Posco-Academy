{
 "cells": [
  {
   "cell_type": "code",
   "execution_count": null,
   "metadata": {},
   "outputs": [],
   "source": [
    "### 거리 기반 알고리즘은 꼭 scaling이 필요하다. "
   ]
  },
  {
   "cell_type": "markdown",
   "metadata": {},
   "source": [
    "# 0. 모듈 불러오기"
   ]
  },
  {
   "cell_type": "code",
   "execution_count": null,
   "metadata": {},
   "outputs": [],
   "source": [
    "# 데이터 구성 : Series, DataFrame\n",
    "import pandas as pd\n",
    "\n",
    "# 행렬 연산 \n",
    "import numpy as np\n",
    "\n",
    "# 데이터 시각화 \n",
    "import matplotlib\n",
    "import matplotlib.pyplot as plt\n",
    "\n",
    "# Scale 변환 : 평균, 표준편차 기준 \n",
    "from sklearn.preprocessing import StandardScaler\n",
    "\n",
    "# linkage : 계층형 군집분석, dendrogram: 계층구조 나무, cluster: linkage로부터 얻은 값으로 군집 생성\n",
    "from scipy.cluster.hierarchy import linkage, dendrogram, fcluster \n",
    "\n",
    "# k means 군집분석, DBSCAN 군집분석\n",
    "from sklearn.cluster import KMeans, DBSCAN"
   ]
  },
  {
   "cell_type": "markdown",
   "metadata": {},
   "source": [
    "# 1. 데이터 "
   ]
  },
  {
   "cell_type": "code",
   "execution_count": null,
   "metadata": {},
   "outputs": [],
   "source": []
  },
  {
   "cell_type": "code",
   "execution_count": 8,
   "metadata": {},
   "outputs": [
    {
     "data": {
      "text/html": [
       "<div>\n",
       "<style scoped>\n",
       "    .dataframe tbody tr th:only-of-type {\n",
       "        vertical-align: middle;\n",
       "    }\n",
       "\n",
       "    .dataframe tbody tr th {\n",
       "        vertical-align: top;\n",
       "    }\n",
       "\n",
       "    .dataframe thead th {\n",
       "        text-align: right;\n",
       "    }\n",
       "</style>\n",
       "<table border=\"1\" class=\"dataframe\">\n",
       "  <thead>\n",
       "    <tr style=\"text-align: right;\">\n",
       "      <th></th>\n",
       "      <th>EVAL</th>\n",
       "      <th>DISSATIS</th>\n",
       "      <th>PRIVILEGE</th>\n",
       "      <th>CHANCE</th>\n",
       "      <th>ADVANCE</th>\n",
       "      <th>CRITISM</th>\n",
       "      <th>PROMOTION</th>\n",
       "    </tr>\n",
       "  </thead>\n",
       "  <tbody>\n",
       "    <tr>\n",
       "      <th>0</th>\n",
       "      <td>43</td>\n",
       "      <td>51</td>\n",
       "      <td>30</td>\n",
       "      <td>39</td>\n",
       "      <td>61</td>\n",
       "      <td>92</td>\n",
       "      <td>45</td>\n",
       "    </tr>\n",
       "    <tr>\n",
       "      <th>1</th>\n",
       "      <td>63</td>\n",
       "      <td>64</td>\n",
       "      <td>51</td>\n",
       "      <td>54</td>\n",
       "      <td>63</td>\n",
       "      <td>73</td>\n",
       "      <td>47</td>\n",
       "    </tr>\n",
       "    <tr>\n",
       "      <th>2</th>\n",
       "      <td>71</td>\n",
       "      <td>70</td>\n",
       "      <td>68</td>\n",
       "      <td>69</td>\n",
       "      <td>76</td>\n",
       "      <td>86</td>\n",
       "      <td>48</td>\n",
       "    </tr>\n",
       "    <tr>\n",
       "      <th>3</th>\n",
       "      <td>61</td>\n",
       "      <td>63</td>\n",
       "      <td>45</td>\n",
       "      <td>47</td>\n",
       "      <td>54</td>\n",
       "      <td>84</td>\n",
       "      <td>35</td>\n",
       "    </tr>\n",
       "    <tr>\n",
       "      <th>4</th>\n",
       "      <td>81</td>\n",
       "      <td>78</td>\n",
       "      <td>56</td>\n",
       "      <td>66</td>\n",
       "      <td>71</td>\n",
       "      <td>83</td>\n",
       "      <td>47</td>\n",
       "    </tr>\n",
       "  </tbody>\n",
       "</table>\n",
       "</div>"
      ],
      "text/plain": [
       "   EVAL  DISSATIS  PRIVILEGE  CHANCE  ADVANCE  CRITISM  PROMOTION\n",
       "0    43        51         30      39       61       92         45\n",
       "1    63        64         51      54       63       73         47\n",
       "2    71        70         68      69       76       86         48\n",
       "3    61        63         45      47       54       84         35\n",
       "4    81        78         56      66       71       83         47"
      ]
     },
     "execution_count": 8,
     "metadata": {},
     "output_type": "execute_result"
    }
   ],
   "source": [
    "df_raw=pd.read_csv(\"/home/piai/Downloads/데이터_1/직무능력평가.csv\", engine='python')\n",
    "df_raw.head()"
   ]
  },
  {
   "cell_type": "code",
   "execution_count": null,
   "metadata": {},
   "outputs": [],
   "source": []
  },
  {
   "cell_type": "code",
   "execution_count": 9,
   "metadata": {},
   "outputs": [
    {
     "data": {
      "text/plain": [
       "array([[-1.8076031 , -1.19166169, -1.92300586, -1.50494461, -0.35542617,\n",
       "         1.77141034,  0.20430138],\n",
       "       [-0.13647543, -0.19861028, -0.17733772, -0.20508842, -0.15977874,\n",
       "        -0.18159526,  0.4020124 ],\n",
       "       [ 0.53197564,  0.25972114,  1.23582221,  1.09476777,  1.11192959,\n",
       "         1.15467173,  0.50086791],\n",
       "       [-0.30358819, -0.27499885, -0.67610004, -0.81168798, -1.0401922 ,\n",
       "         0.9490922 , -0.78425369],\n",
       "       [ 1.36753948,  0.87082969,  0.23829756,  0.83479653,  0.622811  ,\n",
       "         0.84630243,  0.4020124 ]])"
      ]
     },
     "execution_count": 9,
     "metadata": {},
     "output_type": "execute_result"
    }
   ],
   "source": [
    "scaler=StandardScaler()\n",
    "df_raw_scaled=scaler.fit_transform(df_raw) # 배열로 바뀜 \n",
    "df_raw_scaled[:5]"
   ]
  },
  {
   "cell_type": "code",
   "execution_count": null,
   "metadata": {},
   "outputs": [],
   "source": []
  },
  {
   "cell_type": "code",
   "execution_count": 10,
   "metadata": {},
   "outputs": [],
   "source": [
    "# 목표변수 \n",
    "df_raw_y=df_raw_scaled[:,0]\n",
    "\n",
    "# 설명변수\n",
    "df_raw_x=df_raw_scaled[:,1::]"
   ]
  },
  {
   "cell_type": "code",
   "execution_count": null,
   "metadata": {},
   "outputs": [],
   "source": []
  },
  {
   "cell_type": "code",
   "execution_count": 17,
   "metadata": {},
   "outputs": [
    {
     "data": {
      "text/plain": [
       "Text(0, 0.5, 'sample index')"
      ]
     },
     "execution_count": 17,
     "metadata": {},
     "output_type": "execute_result"
    },
    {
     "data": {
      "image/png": "[encoded data removed]",
      "text/plain": [
       "<Figure size 720x720 with 1 Axes>"
      ]
     },
     "metadata": {
      "needs_background": "light"
     },
     "output_type": "display_data"
    }
   ],
   "source": [
    "# 연결:ward , 거리계산 : Euclidean\n",
    "Z_ward=linkage(df_raw_x, method=\"ward\", metric=\"euclidean\")\n",
    "\n",
    "# 연결:avaerage , 거리계산 : Euclidean\n",
    "Z_avaerage=linkage(df_raw_x, method=\"average\", metric=\"euclidean\")\n",
    "\n",
    "# 연결:avaerage , 거리계산 : minkowski\n",
    "Z_Minkowski=linkage(df_raw_x, method=\"average\", metric=\"minkowski\") #옵션에 따라 군집이 다름 \n",
    "\n",
    "# 덴드로그램 [연결 : ward, 거리계산 : Euclidean]\n",
    "plt.figure(figsize=(10,10))\n",
    "ax=plt.subplot(111)\n",
    "\n",
    "# DataFrame 변경 : Z_ward, Z_avaerage, Z_minkowski\n",
    "dendrogram(Z_ward, leaf_font_size=10, orientation=\"right\")\n",
    "plt.title(\"Hierarchical Clustering Dendrogram\")\n",
    "plt.xlabel('distance')\n",
    "plt.ylabel('sample index')"
   ]
  },
  {
   "cell_type": "code",
   "execution_count": null,
   "metadata": {},
   "outputs": [],
   "source": [
    "# 연결:ward , 거리계산 : Euclidean\n",
    "Z_ward=linkage(df_raw_x, method=\"ward\", metric=\"euclidean\")\n",
    "\n",
    "# 연결:avaerage , 거리계산 : Euclidean\n",
    "Z_avaerage=linkage(df_raw_x, method=\"average\", metric=\"euclidean\")\n",
    "\n",
    "# 연결:avaerage , 거리계산 : minkowski\n",
    "Z_Minkowski=linkage(df_raw_x, method=\"average\", metric=\"minkowski\")\n",
    "\n",
    "# 덴드로그램 [연결 : ward, 거리계산 : Euclidean]\n",
    "plt.figure(figsize=(10,10))\n",
    "ax=plt.subplot(111)\n",
    "\n",
    "# DataFrame 변경 : Z_ward, Z_avaerage, Z_minkowski\n",
    "dendrogram(Z_ward, leaf_font_size=10, orientation=\"top\")\n",
    "plt.title(\"Hierarchical Clustering Dendrogram\")\n",
    "plt.xlabel('distance')\n",
    "plt.ylabel('sample index')"
   ]
  },
  {
   "cell_type": "code",
   "execution_count": 19,
   "metadata": {},
   "outputs": [
    {
     "data": {
      "text/plain": [
       "Text(0, 0.5, 'sample index')"
      ]
     },
     "execution_count": 19,
     "metadata": {},
     "output_type": "execute_result"
    },
    {
     "data": {
      "image/png": "[encoded data removed]",
      "text/plain": [
       "<Figure size 720x720 with 1 Axes>"
      ]
     },
     "metadata": {
      "needs_background": "light"
     },
     "output_type": "display_data"
    }
   ],
   "source": [
    "# 연결:ward , 거리계산 : Euclidean\n",
    "Z_ward=linkage(df_raw_x, method=\"ward\", metric=\"euclidean\")\n",
    "\n",
    "# 연결:avaerage , 거리계산 : Euclidean\n",
    "Z_avaerage=linkage(df_raw_x, method=\"average\", metric=\"euclidean\")\n",
    "\n",
    "# 연결:avaerage , 거리계산 : minkowski\n",
    "Z_Minkowski=linkage(df_raw_x, method=\"average\", metric=\"minkowski\")\n",
    "\n",
    "# 덴드로그램 [연결 : ward, 거리계산 : Euclidean]\n",
    "plt.figure(figsize=(10,10))\n",
    "ax=plt.subplot(111)\n",
    "\n",
    "# DataFrame 변경 : Z_ward, Z_avaerage, Z_minkowski\n",
    "dendrogram(Z_ward, leaf_font_size=10, orientation=\"bottom\")\n",
    "plt.title(\"Hierarchical Clustering Dendrogram\")\n",
    "plt.xlabel('distance')\n",
    "plt.ylabel('sample index')"
   ]
  },
  {
   "cell_type": "code",
   "execution_count": 16,
   "metadata": {},
   "outputs": [
    {
     "data": {
      "text/plain": [
       "array([[14.        , 26.        ,  0.52156235,  2.        ],\n",
       "       [ 3.        , 27.        ,  0.65700712,  2.        ],\n",
       "       [ 9.        , 22.        ,  0.84734214,  2.        ],\n",
       "       [16.        , 28.        ,  1.13863458,  2.        ],\n",
       "       [ 6.        ,  7.        ,  1.17063718,  2.        ],\n",
       "       [ 1.        , 21.        ,  1.22298201,  2.        ],\n",
       "       [11.        , 32.        ,  1.31728974,  3.        ],\n",
       "       [ 2.        ,  4.        ,  1.33423955,  2.        ],\n",
       "       [24.        , 36.        ,  1.47235046,  4.        ],\n",
       "       [30.        , 37.        ,  1.65014418,  4.        ],\n",
       "       [18.        , 35.        ,  1.78970024,  3.        ],\n",
       "       [29.        , 34.        ,  1.8539993 ,  3.        ],\n",
       "       [10.        , 12.        ,  1.88477465,  2.        ],\n",
       "       [31.        , 38.        ,  1.94570646,  6.        ],\n",
       "       [25.        , 33.        ,  2.11914806,  3.        ],\n",
       "       [ 5.        , 42.        ,  2.16582648,  3.        ],\n",
       "       [17.        , 19.        ,  2.20000549,  2.        ],\n",
       "       [40.        , 41.        ,  2.45202396,  6.        ],\n",
       "       [ 8.        , 13.        ,  2.52809451,  2.        ],\n",
       "       [ 0.        , 43.        ,  2.88870247,  7.        ],\n",
       "       [20.        , 23.        ,  2.90276444,  2.        ],\n",
       "       [39.        , 44.        ,  3.56637055,  7.        ],\n",
       "       [45.        , 50.        ,  3.60155106,  5.        ],\n",
       "       [15.        , 47.        ,  4.05080859,  7.        ],\n",
       "       [46.        , 51.        ,  4.29306249,  9.        ],\n",
       "       [48.        , 53.        ,  5.0758872 ,  9.        ],\n",
       "       [49.        , 52.        ,  5.91908076, 12.        ],\n",
       "       [54.        , 55.        ,  6.47552152, 18.        ],\n",
       "       [56.        , 57.        , 11.20593399, 30.        ]])"
      ]
     },
     "execution_count": 16,
     "metadata": {},
     "output_type": "execute_result"
    }
   ],
   "source": [
    "Z_ward"
   ]
  },
  {
   "cell_type": "code",
   "execution_count": null,
   "metadata": {},
   "outputs": [],
   "source": []
  },
  {
   "cell_type": "code",
   "execution_count": null,
   "metadata": {},
   "outputs": [],
   "source": [
    "# linkage 함수를 통해 얻은 Z_ward 행렬 데이터를 이용하여 군집 생성\n",
    "cluster_hierarchical=fcluster(Z=Z_ward, t=5, )"
   ]
  }
 ],
 "metadata": {
  "kernelspec": {
   "display_name": "Python 3",
   "language": "python",
   "name": "python3"
  },
  "language_info": {
   "codemirror_mode": {
    "name": "ipython",
    "version": 3
   },
   "file_extension": ".py",
   "mimetype": "text/x-python",
   "name": "python",
   "nbconvert_exporter": "python",
   "pygments_lexer": "ipython3",
   "version": "3.8.3"
  }
 },
 "nbformat": 4,
 "nbformat_minor": 4
}
