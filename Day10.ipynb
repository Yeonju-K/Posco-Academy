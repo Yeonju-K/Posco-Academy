{
 "cells": [
  {
   "cell_type": "markdown",
   "metadata": {},
   "source": [
    "# 빅데이터 분석 개요 \n",
    "#### Risk management \n",
    "#### 빅데이터 : Volume, Variety(unstructured), velocity \n",
    "#### 상관관계가 더 중요해진다. (인간 관계 >> 상관관계) \n",
    "#### 불확실성, 리스크, 스마트, 융합 >> 통찰력, 대응력, 경쟁력, 창의력 \n",
    "#### 문제 정의, 데이터 측정(데이터 정제), 데이터 분석, 성능 개선, 성과 유지관리 \n",
    "#### 예측 (decision tree, 앙상블) 분류 (regression, logistic regression) association rule, clustering, timeseries, PCA, k-means clustering >> visualization  \n",
    "#### 수집 > 저장 > 처리 > 관리\n",
    "#### Data-driven 방식 : 가시적 관리 / 데이터 분석을 통해 인사이트 도출 / \n",
    "#### 현장의 IOT를 통해서 데이터를 주고 받으며 \n",
    "#### Data 활용 Frame : 품질예측, 설비 고장 예지, 조업 패턴 최적화, KPI 설비 일상 모니터링 (스마트 팩토리)\n",
    "#### 빅데이터 활용 : No SQL \n",
    "#### 빅데이터 수집 : 로그 수집기 ( 내부\n",
    "#### ROI : 투자대비 성과 \n",
    "#### 프로젝트 : OPP, 보험 "
   ]
  },
  {
   "cell_type": "markdown",
   "metadata": {},
   "source": [
    "#### 기억해야할 점 : 비정형화 \n",
    "#### Big data, 특징, 빅데이터와 small data의 차이 \n",
    "#### Deep learning 3가지 : CNN RNN LSTM\n"
   ]
  },
  {
   "cell_type": "markdown",
   "metadata": {},
   "source": [
    "# 빅데이터 분석 방법\n",
    "#### 기업에서의 문제 해결 방법 : 고객, 프로세스, 데이터 \n",
    "#### 고객, 상사가 뭘 원하는지 \n",
    "#### 프로세스 : output을 만들어내기 위한 순서가 있는 activity or step \n",
    "#### 데이터 : 수치적으로, 정량적으로 "
   ]
  },
  {
   "cell_type": "markdown",
   "metadata": {},
   "source": [
    "# 문제 정의 \n",
    "#### HSB : 고압의 물로 싸서 껍데기를 벗겨낸다. Hydro Steel Braker \n",
    "#### 표면 품질_스케일로 문제 해결, 스케일이 있으면 제품이 되지 않는다. "
   ]
  },
  {
   "cell_type": "markdown",
   "metadata": {},
   "source": [
    "# 종합 실습 \n",
    "#### 분석 배경 \n",
    "#### scale의 발생(범주) : 분류를 통해 모델을 만들어 해결 hot scale breaker이 아닌 Hydro scale breaker \n",
    "#### 압연간 descaling 횟수 : 압연에 descale 후 압축한다. "
   ]
  },
  {
   "cell_type": "markdown",
   "metadata": {},
   "source": [
    "# 데이터 기반 과제 수행 목적 \n",
    "#### 목적 : 비즈니스 상의 목적과 타당성 \n",
    "#### 1) 전략연계 확인 2) 니즈파악 \n",
    "#### 비즈니스 문제 > 데이터 분석 문제 "
   ]
  },
  {
   "cell_type": "markdown",
   "metadata": {},
   "source": [
    "# 꿀팁 \n",
    "#### 그래프가 포함시킨 배경 및 목적, 키워드 중심으로 정리 \n",
    "#### 한 그래프에서 원하고자 하는 정보를 모드 들어갈 수 있게 정리 \n",
    "#### 조선산업(관련산업)의 데이터를 바탕으로 본사의 추이 예측 \n",
    "\n",
    "#### 시장 환경 분석을 통한 과제 수행 목적 도출  \n",
    "#### 데이터 기반 개선 시회 도출 : 문제점 \n",
    "#### 문제 : 드러난 결과 \n",
    "#### 문제점 : 드러난 결과에 영향을 주는 원인 : 개선기회 (드러난 결과+원인) "
   ]
  }
 ],
 "metadata": {
  "kernelspec": {
   "display_name": "Python 3",
   "language": "python",
   "name": "python3"
  },
  "language_info": {
   "codemirror_mode": {
    "name": "ipython",
    "version": 3
   },
   "file_extension": ".py",
   "mimetype": "text/x-python",
   "name": "python",
   "nbconvert_exporter": "python",
   "pygments_lexer": "ipython3",
   "version": "3.8.3"
  }
 },
 "nbformat": 4,
 "nbformat_minor": 4
}
